{
 "cells": [
  {
   "cell_type": "markdown",
   "metadata": {
    "papermill": {
     "duration": 0.038289,
     "end_time": "2020-11-25T11:41:27.111111",
     "exception": false,
     "start_time": "2020-11-25T11:41:27.072822",
     "status": "completed"
    },
    "tags": []
   },
   "source": [
    "# Employee Attrition Prediction\n",
    "\n",
    "\n",
    "This project was a part of IIT Guwahati's Summer Analytics program which concluded on June 25, 2020. Apart from learning a about Meachine Learning and some Deep Learning, I learnt about procrastination.\n",
    "\n",
    "You see, I have been meaning to put up this project since a month. But as Mark Twain said -\n",
    "    'Never put off till tomorrow what may be done day after tomorrow just as well.'\n",
    "and I followed it.\n",
    "Until today, when I wresteled myself to finalise this project. \n",
    "\n",
    "Well enought of digression and let's dive into the project.\n",
    "\n",
    "The aim of this project is to predict Employee Attrition given some attributes (duh!). For the uninitiated, employee attrition is 'the natural process by which employees leave the workforce for example, through resignation for personal reasons or retirement and are not immediately replaced.'"
   ]
  },
  {
   "cell_type": "markdown",
   "metadata": {
    "papermill": {
     "duration": 0.034734,
     "end_time": "2020-11-25T11:41:27.184381",
     "exception": false,
     "start_time": "2020-11-25T11:41:27.149647",
     "status": "completed"
    },
    "tags": []
   },
   "source": [
    "Before looking into the data, I've imported some libraries, which will be helpful for the exploration."
   ]
  },
  {
   "cell_type": "markdown",
   "metadata": {
    "papermill": {
     "duration": 0.03458,
     "end_time": "2020-11-25T11:41:27.253834",
     "exception": false,
     "start_time": "2020-11-25T11:41:27.219254",
     "status": "completed"
    },
    "tags": []
   },
   "source": [
    "<hr>"
   ]
  },
  {
   "cell_type": "markdown",
   "metadata": {
    "papermill": {
     "duration": 0.036283,
     "end_time": "2020-11-25T11:41:27.326140",
     "exception": false,
     "start_time": "2020-11-25T11:41:27.289857",
     "status": "completed"
    },
    "tags": []
   },
   "source": [
    "\n",
    "## Importing Required libraries"
   ]
  },
  {
   "cell_type": "code",
   "execution_count": 1,
   "metadata": {
    "_cell_guid": "79c7e3d0-c299-4dcb-8224-4455121ee9b0",
    "_uuid": "d629ff2d2480ee46fbb7e2d37f6b5fab8052498a",
    "execution": {
     "iopub.execute_input": "2020-11-25T11:41:27.403702Z",
     "iopub.status.busy": "2020-11-25T11:41:27.403031Z",
     "iopub.status.idle": "2020-11-25T11:41:28.463802Z",
     "shell.execute_reply": "2020-11-25T11:41:28.463013Z"
    },
    "papermill": {
     "duration": 1.101749,
     "end_time": "2020-11-25T11:41:28.463931",
     "exception": false,
     "start_time": "2020-11-25T11:41:27.362182",
     "status": "completed"
    },
    "tags": []
   },
   "outputs": [],
   "source": [
    "import numpy as np\n",
    "import pandas as pd\n",
    "import matplotlib.pyplot as plt\n",
    "import seaborn as sns\n",
    "from sklearn.preprocessing import LabelEncoder\n",
    "pd.set_option('display.max_columns', None) #This displays all the columns instead of the default 20 "
   ]
  },
  {
   "cell_type": "markdown",
   "metadata": {
    "papermill": {
     "duration": 0.034948,
     "end_time": "2020-11-25T11:41:28.534620",
     "exception": false,
     "start_time": "2020-11-25T11:41:28.499672",
     "status": "completed"
    },
    "tags": []
   },
   "source": [
    "## Importing Dataset"
   ]
  },
  {
   "cell_type": "markdown",
   "metadata": {
    "papermill": {
     "duration": 0.03619,
     "end_time": "2020-11-25T11:41:28.606161",
     "exception": false,
     "start_time": "2020-11-25T11:41:28.569971",
     "status": "completed"
    },
    "tags": []
   },
   "source": [
    "I have uploaded the train and test datasets on Github. The target variable is separated from the train set."
   ]
  },
  {
   "cell_type": "code",
   "execution_count": 2,
   "metadata": {
    "execution": {
     "iopub.execute_input": "2020-11-25T11:41:28.698300Z",
     "iopub.status.busy": "2020-11-25T11:41:28.697550Z",
     "iopub.status.idle": "2020-11-25T11:41:28.949999Z",
     "shell.execute_reply": "2020-11-25T11:41:28.950536Z"
    },
    "papermill": {
     "duration": 0.308219,
     "end_time": "2020-11-25T11:41:28.950684",
     "exception": false,
     "start_time": "2020-11-25T11:41:28.642465",
     "status": "completed"
    },
    "scrolled": true,
    "tags": []
   },
   "outputs": [
    {
     "data": {
      "text/html": [
       "<div>\n",
       "<style scoped>\n",
       "    .dataframe tbody tr th:only-of-type {\n",
       "        vertical-align: middle;\n",
       "    }\n",
       "\n",
       "    .dataframe tbody tr th {\n",
       "        vertical-align: top;\n",
       "    }\n",
       "\n",
       "    .dataframe thead th {\n",
       "        text-align: right;\n",
       "    }\n",
       "</style>\n",
       "<table border=\"1\" class=\"dataframe\">\n",
       "  <thead>\n",
       "    <tr style=\"text-align: right;\">\n",
       "      <th></th>\n",
       "      <th>Id</th>\n",
       "      <th>Age</th>\n",
       "      <th>Attrition</th>\n",
       "      <th>BusinessTravel</th>\n",
       "      <th>Department</th>\n",
       "      <th>DistanceFromHome</th>\n",
       "      <th>Education</th>\n",
       "      <th>EducationField</th>\n",
       "      <th>EmployeeNumber</th>\n",
       "      <th>EnvironmentSatisfaction</th>\n",
       "      <th>Gender</th>\n",
       "      <th>JobInvolvement</th>\n",
       "      <th>JobRole</th>\n",
       "      <th>JobSatisfaction</th>\n",
       "      <th>MaritalStatus</th>\n",
       "      <th>MonthlyIncome</th>\n",
       "      <th>NumCompaniesWorked</th>\n",
       "      <th>OverTime</th>\n",
       "      <th>PercentSalaryHike</th>\n",
       "      <th>PerformanceRating</th>\n",
       "      <th>StockOptionLevel</th>\n",
       "      <th>TotalWorkingYears</th>\n",
       "      <th>TrainingTimesLastYear</th>\n",
       "      <th>YearsAtCompany</th>\n",
       "      <th>YearsInCurrentRole</th>\n",
       "      <th>YearsSinceLastPromotion</th>\n",
       "      <th>YearsWithCurrManager</th>\n",
       "      <th>CommunicationSkill</th>\n",
       "      <th>Behaviour</th>\n",
       "    </tr>\n",
       "  </thead>\n",
       "  <tbody>\n",
       "    <tr>\n",
       "      <th>0</th>\n",
       "      <td>1</td>\n",
       "      <td>30</td>\n",
       "      <td>0</td>\n",
       "      <td>Non-Travel</td>\n",
       "      <td>Research &amp; Development</td>\n",
       "      <td>2</td>\n",
       "      <td>3</td>\n",
       "      <td>Medical</td>\n",
       "      <td>571</td>\n",
       "      <td>3</td>\n",
       "      <td>Female</td>\n",
       "      <td>3</td>\n",
       "      <td>Laboratory Technician</td>\n",
       "      <td>4</td>\n",
       "      <td>Single</td>\n",
       "      <td>2564</td>\n",
       "      <td>0</td>\n",
       "      <td>No</td>\n",
       "      <td>14</td>\n",
       "      <td>3</td>\n",
       "      <td>0</td>\n",
       "      <td>12</td>\n",
       "      <td>2</td>\n",
       "      <td>11</td>\n",
       "      <td>7</td>\n",
       "      <td>6</td>\n",
       "      <td>7</td>\n",
       "      <td>4</td>\n",
       "      <td>1</td>\n",
       "    </tr>\n",
       "    <tr>\n",
       "      <th>1</th>\n",
       "      <td>2</td>\n",
       "      <td>36</td>\n",
       "      <td>0</td>\n",
       "      <td>Travel_Rarely</td>\n",
       "      <td>Research &amp; Development</td>\n",
       "      <td>12</td>\n",
       "      <td>4</td>\n",
       "      <td>Life Sciences</td>\n",
       "      <td>1614</td>\n",
       "      <td>3</td>\n",
       "      <td>Female</td>\n",
       "      <td>3</td>\n",
       "      <td>Manufacturing Director</td>\n",
       "      <td>3</td>\n",
       "      <td>Married</td>\n",
       "      <td>4663</td>\n",
       "      <td>9</td>\n",
       "      <td>Yes</td>\n",
       "      <td>12</td>\n",
       "      <td>3</td>\n",
       "      <td>2</td>\n",
       "      <td>7</td>\n",
       "      <td>2</td>\n",
       "      <td>3</td>\n",
       "      <td>2</td>\n",
       "      <td>1</td>\n",
       "      <td>1</td>\n",
       "      <td>2</td>\n",
       "      <td>1</td>\n",
       "    </tr>\n",
       "    <tr>\n",
       "      <th>2</th>\n",
       "      <td>3</td>\n",
       "      <td>55</td>\n",
       "      <td>1</td>\n",
       "      <td>Travel_Rarely</td>\n",
       "      <td>Sales</td>\n",
       "      <td>2</td>\n",
       "      <td>1</td>\n",
       "      <td>Medical</td>\n",
       "      <td>842</td>\n",
       "      <td>3</td>\n",
       "      <td>Male</td>\n",
       "      <td>3</td>\n",
       "      <td>Sales Executive</td>\n",
       "      <td>4</td>\n",
       "      <td>Single</td>\n",
       "      <td>5160</td>\n",
       "      <td>4</td>\n",
       "      <td>No</td>\n",
       "      <td>16</td>\n",
       "      <td>3</td>\n",
       "      <td>0</td>\n",
       "      <td>12</td>\n",
       "      <td>3</td>\n",
       "      <td>9</td>\n",
       "      <td>7</td>\n",
       "      <td>7</td>\n",
       "      <td>3</td>\n",
       "      <td>5</td>\n",
       "      <td>1</td>\n",
       "    </tr>\n",
       "    <tr>\n",
       "      <th>3</th>\n",
       "      <td>4</td>\n",
       "      <td>39</td>\n",
       "      <td>0</td>\n",
       "      <td>Travel_Rarely</td>\n",
       "      <td>Research &amp; Development</td>\n",
       "      <td>24</td>\n",
       "      <td>1</td>\n",
       "      <td>Life Sciences</td>\n",
       "      <td>2014</td>\n",
       "      <td>1</td>\n",
       "      <td>Male</td>\n",
       "      <td>3</td>\n",
       "      <td>Research Scientist</td>\n",
       "      <td>4</td>\n",
       "      <td>Single</td>\n",
       "      <td>4108</td>\n",
       "      <td>7</td>\n",
       "      <td>No</td>\n",
       "      <td>13</td>\n",
       "      <td>3</td>\n",
       "      <td>0</td>\n",
       "      <td>18</td>\n",
       "      <td>2</td>\n",
       "      <td>7</td>\n",
       "      <td>7</td>\n",
       "      <td>1</td>\n",
       "      <td>7</td>\n",
       "      <td>4</td>\n",
       "      <td>1</td>\n",
       "    </tr>\n",
       "    <tr>\n",
       "      <th>4</th>\n",
       "      <td>5</td>\n",
       "      <td>37</td>\n",
       "      <td>0</td>\n",
       "      <td>Travel_Rarely</td>\n",
       "      <td>Research &amp; Development</td>\n",
       "      <td>3</td>\n",
       "      <td>3</td>\n",
       "      <td>Other</td>\n",
       "      <td>689</td>\n",
       "      <td>3</td>\n",
       "      <td>Male</td>\n",
       "      <td>3</td>\n",
       "      <td>Manufacturing Director</td>\n",
       "      <td>3</td>\n",
       "      <td>Married</td>\n",
       "      <td>9434</td>\n",
       "      <td>1</td>\n",
       "      <td>No</td>\n",
       "      <td>15</td>\n",
       "      <td>3</td>\n",
       "      <td>1</td>\n",
       "      <td>10</td>\n",
       "      <td>2</td>\n",
       "      <td>10</td>\n",
       "      <td>7</td>\n",
       "      <td>7</td>\n",
       "      <td>8</td>\n",
       "      <td>1</td>\n",
       "      <td>1</td>\n",
       "    </tr>\n",
       "  </tbody>\n",
       "</table>\n",
       "</div>"
      ],
      "text/plain": [
       "   Id  Age  Attrition BusinessTravel              Department  \\\n",
       "0   1   30          0     Non-Travel  Research & Development   \n",
       "1   2   36          0  Travel_Rarely  Research & Development   \n",
       "2   3   55          1  Travel_Rarely                   Sales   \n",
       "3   4   39          0  Travel_Rarely  Research & Development   \n",
       "4   5   37          0  Travel_Rarely  Research & Development   \n",
       "\n",
       "   DistanceFromHome  Education EducationField  EmployeeNumber  \\\n",
       "0                 2          3        Medical             571   \n",
       "1                12          4  Life Sciences            1614   \n",
       "2                 2          1        Medical             842   \n",
       "3                24          1  Life Sciences            2014   \n",
       "4                 3          3          Other             689   \n",
       "\n",
       "   EnvironmentSatisfaction  Gender  JobInvolvement                 JobRole  \\\n",
       "0                        3  Female               3   Laboratory Technician   \n",
       "1                        3  Female               3  Manufacturing Director   \n",
       "2                        3    Male               3         Sales Executive   \n",
       "3                        1    Male               3      Research Scientist   \n",
       "4                        3    Male               3  Manufacturing Director   \n",
       "\n",
       "   JobSatisfaction MaritalStatus  MonthlyIncome  NumCompaniesWorked OverTime  \\\n",
       "0                4        Single           2564                   0       No   \n",
       "1                3       Married           4663                   9      Yes   \n",
       "2                4        Single           5160                   4       No   \n",
       "3                4        Single           4108                   7       No   \n",
       "4                3       Married           9434                   1       No   \n",
       "\n",
       "   PercentSalaryHike  PerformanceRating  StockOptionLevel  TotalWorkingYears  \\\n",
       "0                 14                  3                 0                 12   \n",
       "1                 12                  3                 2                  7   \n",
       "2                 16                  3                 0                 12   \n",
       "3                 13                  3                 0                 18   \n",
       "4                 15                  3                 1                 10   \n",
       "\n",
       "   TrainingTimesLastYear  YearsAtCompany  YearsInCurrentRole  \\\n",
       "0                      2              11                   7   \n",
       "1                      2               3                   2   \n",
       "2                      3               9                   7   \n",
       "3                      2               7                   7   \n",
       "4                      2              10                   7   \n",
       "\n",
       "   YearsSinceLastPromotion  YearsWithCurrManager  CommunicationSkill  \\\n",
       "0                        6                     7                   4   \n",
       "1                        1                     1                   2   \n",
       "2                        7                     3                   5   \n",
       "3                        1                     7                   4   \n",
       "4                        7                     8                   1   \n",
       "\n",
       "   Behaviour  \n",
       "0          1  \n",
       "1          1  \n",
       "2          1  \n",
       "3          1  \n",
       "4          1  "
      ]
     },
     "execution_count": 2,
     "metadata": {},
     "output_type": "execute_result"
    }
   ],
   "source": [
    "# train.csv contains the predictor variables and target variable, Attrition \n",
    "train_df = pd.read_csv('https://raw.githubusercontent.com/thepankj/IIT-G-Summer-Analytics-2020/master/train.csv')\n",
    "\n",
    "train_df.head()"
   ]
  },
  {
   "cell_type": "markdown",
   "metadata": {
    "papermill": {
     "duration": 0.036438,
     "end_time": "2020-11-25T11:41:29.025840",
     "exception": false,
     "start_time": "2020-11-25T11:41:28.989402",
     "status": "completed"
    },
    "tags": []
   },
   "source": [
    "Checking the number of rows and columns"
   ]
  },
  {
   "cell_type": "code",
   "execution_count": 3,
   "metadata": {
    "execution": {
     "iopub.execute_input": "2020-11-25T11:41:29.107798Z",
     "iopub.status.busy": "2020-11-25T11:41:29.106401Z",
     "iopub.status.idle": "2020-11-25T11:41:29.110783Z",
     "shell.execute_reply": "2020-11-25T11:41:29.111246Z"
    },
    "papermill": {
     "duration": 0.049556,
     "end_time": "2020-11-25T11:41:29.111429",
     "exception": false,
     "start_time": "2020-11-25T11:41:29.061873",
     "status": "completed"
    },
    "tags": []
   },
   "outputs": [
    {
     "data": {
      "text/plain": [
       "(1628, 29)"
      ]
     },
     "execution_count": 3,
     "metadata": {},
     "output_type": "execute_result"
    }
   ],
   "source": [
    "train_df.shape"
   ]
  },
  {
   "cell_type": "markdown",
   "metadata": {
    "papermill": {
     "duration": 0.038874,
     "end_time": "2020-11-25T11:41:29.187655",
     "exception": false,
     "start_time": "2020-11-25T11:41:29.148781",
     "status": "completed"
    },
    "tags": []
   },
   "source": [
    "<hr>"
   ]
  },
  {
   "cell_type": "markdown",
   "metadata": {
    "papermill": {
     "duration": 0.036177,
     "end_time": "2020-11-25T11:41:29.260187",
     "exception": false,
     "start_time": "2020-11-25T11:41:29.224010",
     "status": "completed"
    },
    "tags": []
   },
   "source": [
    "## EDA and Feature Engineering"
   ]
  },
  {
   "cell_type": "markdown",
   "metadata": {
    "papermill": {
     "duration": 0.036219,
     "end_time": "2020-11-25T11:41:29.333729",
     "exception": false,
     "start_time": "2020-11-25T11:41:29.297510",
     "status": "completed"
    },
    "tags": []
   },
   "source": [
    "Let's look at the datatypes of the various attributes."
   ]
  },
  {
   "cell_type": "code",
   "execution_count": 4,
   "metadata": {
    "execution": {
     "iopub.execute_input": "2020-11-25T11:41:29.421820Z",
     "iopub.status.busy": "2020-11-25T11:41:29.420806Z",
     "iopub.status.idle": "2020-11-25T11:41:29.424722Z",
     "shell.execute_reply": "2020-11-25T11:41:29.424075Z"
    },
    "papermill": {
     "duration": 0.053792,
     "end_time": "2020-11-25T11:41:29.424842",
     "exception": false,
     "start_time": "2020-11-25T11:41:29.371050",
     "status": "completed"
    },
    "tags": []
   },
   "outputs": [
    {
     "data": {
      "text/plain": [
       "Id                          int64\n",
       "YearsWithCurrManager        int64\n",
       "YearsSinceLastPromotion     int64\n",
       "YearsInCurrentRole          int64\n",
       "YearsAtCompany              int64\n",
       "TrainingTimesLastYear       int64\n",
       "TotalWorkingYears           int64\n",
       "StockOptionLevel            int64\n",
       "PerformanceRating           int64\n",
       "PercentSalaryHike           int64\n",
       "NumCompaniesWorked          int64\n",
       "MonthlyIncome               int64\n",
       "CommunicationSkill          int64\n",
       "Behaviour                   int64\n",
       "JobInvolvement              int64\n",
       "EnvironmentSatisfaction     int64\n",
       "EmployeeNumber              int64\n",
       "Education                   int64\n",
       "DistanceFromHome            int64\n",
       "Attrition                   int64\n",
       "Age                         int64\n",
       "JobSatisfaction             int64\n",
       "JobRole                    object\n",
       "Gender                     object\n",
       "OverTime                   object\n",
       "EducationField             object\n",
       "Department                 object\n",
       "BusinessTravel             object\n",
       "MaritalStatus              object\n",
       "dtype: object"
      ]
     },
     "execution_count": 4,
     "metadata": {},
     "output_type": "execute_result"
    }
   ],
   "source": [
    "train_df.dtypes.sort_values()"
   ]
  },
  {
   "cell_type": "markdown",
   "metadata": {
    "papermill": {
     "duration": 0.036385,
     "end_time": "2020-11-25T11:41:29.499671",
     "exception": false,
     "start_time": "2020-11-25T11:41:29.463286",
     "status": "completed"
    },
    "tags": []
   },
   "source": [
    "7 out of 29 attributes are 'object' type. We need to convert them to integer type to feed in our ML algos."
   ]
  },
  {
   "cell_type": "markdown",
   "metadata": {
    "papermill": {
     "duration": 0.037769,
     "end_time": "2020-11-25T11:41:29.574172",
     "exception": false,
     "start_time": "2020-11-25T11:41:29.536403",
     "status": "completed"
    },
    "tags": []
   },
   "source": [
    "<hr>"
   ]
  },
  {
   "cell_type": "markdown",
   "metadata": {
    "papermill": {
     "duration": 0.04002,
     "end_time": "2020-11-25T11:41:29.652658",
     "exception": false,
     "start_time": "2020-11-25T11:41:29.612638",
     "status": "completed"
    },
    "tags": []
   },
   "source": [
    "### Data Description"
   ]
  },
  {
   "cell_type": "markdown",
   "metadata": {
    "papermill": {
     "duration": 0.036645,
     "end_time": "2020-11-25T11:41:29.726257",
     "exception": false,
     "start_time": "2020-11-25T11:41:29.689612",
     "status": "completed"
    },
    "tags": []
   },
   "source": [
    "A descriiption of the 'int' and 'object' type of attributes "
   ]
  },
  {
   "cell_type": "code",
   "execution_count": 5,
   "metadata": {
    "execution": {
     "iopub.execute_input": "2020-11-25T11:41:29.817060Z",
     "iopub.status.busy": "2020-11-25T11:41:29.816284Z",
     "iopub.status.idle": "2020-11-25T11:41:29.877978Z",
     "shell.execute_reply": "2020-11-25T11:41:29.878461Z"
    },
    "papermill": {
     "duration": 0.113292,
     "end_time": "2020-11-25T11:41:29.878629",
     "exception": false,
     "start_time": "2020-11-25T11:41:29.765337",
     "status": "completed"
    },
    "scrolled": true,
    "tags": []
   },
   "outputs": [
    {
     "data": {
      "text/html": [
       "<div>\n",
       "<style scoped>\n",
       "    .dataframe tbody tr th:only-of-type {\n",
       "        vertical-align: middle;\n",
       "    }\n",
       "\n",
       "    .dataframe tbody tr th {\n",
       "        vertical-align: top;\n",
       "    }\n",
       "\n",
       "    .dataframe thead th {\n",
       "        text-align: right;\n",
       "    }\n",
       "</style>\n",
       "<table border=\"1\" class=\"dataframe\">\n",
       "  <thead>\n",
       "    <tr style=\"text-align: right;\">\n",
       "      <th></th>\n",
       "      <th>count</th>\n",
       "      <th>mean</th>\n",
       "      <th>std</th>\n",
       "      <th>min</th>\n",
       "      <th>25%</th>\n",
       "      <th>50%</th>\n",
       "      <th>75%</th>\n",
       "      <th>max</th>\n",
       "    </tr>\n",
       "  </thead>\n",
       "  <tbody>\n",
       "    <tr>\n",
       "      <th>Id</th>\n",
       "      <td>1628.0</td>\n",
       "      <td>814.500000</td>\n",
       "      <td>470.107435</td>\n",
       "      <td>1.0</td>\n",
       "      <td>407.75</td>\n",
       "      <td>814.5</td>\n",
       "      <td>1221.25</td>\n",
       "      <td>1628.0</td>\n",
       "    </tr>\n",
       "    <tr>\n",
       "      <th>Age</th>\n",
       "      <td>1628.0</td>\n",
       "      <td>35.645577</td>\n",
       "      <td>9.481794</td>\n",
       "      <td>18.0</td>\n",
       "      <td>29.00</td>\n",
       "      <td>34.0</td>\n",
       "      <td>42.00</td>\n",
       "      <td>60.0</td>\n",
       "    </tr>\n",
       "    <tr>\n",
       "      <th>Attrition</th>\n",
       "      <td>1628.0</td>\n",
       "      <td>0.482187</td>\n",
       "      <td>0.499836</td>\n",
       "      <td>0.0</td>\n",
       "      <td>0.00</td>\n",
       "      <td>0.0</td>\n",
       "      <td>1.00</td>\n",
       "      <td>1.0</td>\n",
       "    </tr>\n",
       "    <tr>\n",
       "      <th>DistanceFromHome</th>\n",
       "      <td>1628.0</td>\n",
       "      <td>9.735258</td>\n",
       "      <td>8.306546</td>\n",
       "      <td>1.0</td>\n",
       "      <td>2.00</td>\n",
       "      <td>8.0</td>\n",
       "      <td>15.00</td>\n",
       "      <td>29.0</td>\n",
       "    </tr>\n",
       "    <tr>\n",
       "      <th>Education</th>\n",
       "      <td>1628.0</td>\n",
       "      <td>2.884521</td>\n",
       "      <td>1.020470</td>\n",
       "      <td>1.0</td>\n",
       "      <td>2.00</td>\n",
       "      <td>3.0</td>\n",
       "      <td>4.00</td>\n",
       "      <td>5.0</td>\n",
       "    </tr>\n",
       "    <tr>\n",
       "      <th>EmployeeNumber</th>\n",
       "      <td>1628.0</td>\n",
       "      <td>1000.985872</td>\n",
       "      <td>585.417694</td>\n",
       "      <td>1.0</td>\n",
       "      <td>509.25</td>\n",
       "      <td>977.0</td>\n",
       "      <td>1494.00</td>\n",
       "      <td>2068.0</td>\n",
       "    </tr>\n",
       "    <tr>\n",
       "      <th>EnvironmentSatisfaction</th>\n",
       "      <td>1628.0</td>\n",
       "      <td>2.646192</td>\n",
       "      <td>1.125283</td>\n",
       "      <td>1.0</td>\n",
       "      <td>2.00</td>\n",
       "      <td>3.0</td>\n",
       "      <td>4.00</td>\n",
       "      <td>4.0</td>\n",
       "    </tr>\n",
       "    <tr>\n",
       "      <th>JobInvolvement</th>\n",
       "      <td>1628.0</td>\n",
       "      <td>2.650491</td>\n",
       "      <td>0.736330</td>\n",
       "      <td>1.0</td>\n",
       "      <td>2.00</td>\n",
       "      <td>3.0</td>\n",
       "      <td>3.00</td>\n",
       "      <td>4.0</td>\n",
       "    </tr>\n",
       "    <tr>\n",
       "      <th>JobSatisfaction</th>\n",
       "      <td>1628.0</td>\n",
       "      <td>2.639435</td>\n",
       "      <td>1.096272</td>\n",
       "      <td>1.0</td>\n",
       "      <td>2.00</td>\n",
       "      <td>3.0</td>\n",
       "      <td>4.00</td>\n",
       "      <td>4.0</td>\n",
       "    </tr>\n",
       "    <tr>\n",
       "      <th>MonthlyIncome</th>\n",
       "      <td>1628.0</td>\n",
       "      <td>5785.524570</td>\n",
       "      <td>4339.293147</td>\n",
       "      <td>1009.0</td>\n",
       "      <td>2625.00</td>\n",
       "      <td>4304.0</td>\n",
       "      <td>7124.25</td>\n",
       "      <td>19999.0</td>\n",
       "    </tr>\n",
       "    <tr>\n",
       "      <th>NumCompaniesWorked</th>\n",
       "      <td>1628.0</td>\n",
       "      <td>2.761671</td>\n",
       "      <td>2.549995</td>\n",
       "      <td>0.0</td>\n",
       "      <td>1.00</td>\n",
       "      <td>2.0</td>\n",
       "      <td>4.00</td>\n",
       "      <td>9.0</td>\n",
       "    </tr>\n",
       "    <tr>\n",
       "      <th>PercentSalaryHike</th>\n",
       "      <td>1628.0</td>\n",
       "      <td>15.207617</td>\n",
       "      <td>3.686703</td>\n",
       "      <td>11.0</td>\n",
       "      <td>12.00</td>\n",
       "      <td>14.0</td>\n",
       "      <td>18.00</td>\n",
       "      <td>25.0</td>\n",
       "    </tr>\n",
       "    <tr>\n",
       "      <th>PerformanceRating</th>\n",
       "      <td>1628.0</td>\n",
       "      <td>3.155405</td>\n",
       "      <td>0.362402</td>\n",
       "      <td>3.0</td>\n",
       "      <td>3.00</td>\n",
       "      <td>3.0</td>\n",
       "      <td>3.00</td>\n",
       "      <td>4.0</td>\n",
       "    </tr>\n",
       "    <tr>\n",
       "      <th>StockOptionLevel</th>\n",
       "      <td>1628.0</td>\n",
       "      <td>0.692260</td>\n",
       "      <td>0.864808</td>\n",
       "      <td>0.0</td>\n",
       "      <td>0.00</td>\n",
       "      <td>0.0</td>\n",
       "      <td>1.00</td>\n",
       "      <td>3.0</td>\n",
       "    </tr>\n",
       "    <tr>\n",
       "      <th>TotalWorkingYears</th>\n",
       "      <td>1628.0</td>\n",
       "      <td>9.949017</td>\n",
       "      <td>7.482936</td>\n",
       "      <td>0.0</td>\n",
       "      <td>5.00</td>\n",
       "      <td>8.0</td>\n",
       "      <td>13.00</td>\n",
       "      <td>38.0</td>\n",
       "    </tr>\n",
       "    <tr>\n",
       "      <th>TrainingTimesLastYear</th>\n",
       "      <td>1628.0</td>\n",
       "      <td>2.752457</td>\n",
       "      <td>1.288033</td>\n",
       "      <td>0.0</td>\n",
       "      <td>2.00</td>\n",
       "      <td>3.0</td>\n",
       "      <td>3.00</td>\n",
       "      <td>6.0</td>\n",
       "    </tr>\n",
       "    <tr>\n",
       "      <th>YearsAtCompany</th>\n",
       "      <td>1628.0</td>\n",
       "      <td>6.092752</td>\n",
       "      <td>5.921168</td>\n",
       "      <td>0.0</td>\n",
       "      <td>2.00</td>\n",
       "      <td>5.0</td>\n",
       "      <td>8.00</td>\n",
       "      <td>37.0</td>\n",
       "    </tr>\n",
       "    <tr>\n",
       "      <th>YearsInCurrentRole</th>\n",
       "      <td>1628.0</td>\n",
       "      <td>3.614865</td>\n",
       "      <td>3.481051</td>\n",
       "      <td>0.0</td>\n",
       "      <td>1.00</td>\n",
       "      <td>2.0</td>\n",
       "      <td>7.00</td>\n",
       "      <td>18.0</td>\n",
       "    </tr>\n",
       "    <tr>\n",
       "      <th>YearsSinceLastPromotion</th>\n",
       "      <td>1628.0</td>\n",
       "      <td>2.049140</td>\n",
       "      <td>3.138287</td>\n",
       "      <td>0.0</td>\n",
       "      <td>0.00</td>\n",
       "      <td>1.0</td>\n",
       "      <td>2.00</td>\n",
       "      <td>15.0</td>\n",
       "    </tr>\n",
       "    <tr>\n",
       "      <th>YearsWithCurrManager</th>\n",
       "      <td>1628.0</td>\n",
       "      <td>3.551597</td>\n",
       "      <td>3.494369</td>\n",
       "      <td>0.0</td>\n",
       "      <td>0.00</td>\n",
       "      <td>2.0</td>\n",
       "      <td>7.00</td>\n",
       "      <td>17.0</td>\n",
       "    </tr>\n",
       "    <tr>\n",
       "      <th>CommunicationSkill</th>\n",
       "      <td>1628.0</td>\n",
       "      <td>3.135749</td>\n",
       "      <td>1.408770</td>\n",
       "      <td>1.0</td>\n",
       "      <td>2.00</td>\n",
       "      <td>3.0</td>\n",
       "      <td>4.00</td>\n",
       "      <td>5.0</td>\n",
       "    </tr>\n",
       "    <tr>\n",
       "      <th>Behaviour</th>\n",
       "      <td>1628.0</td>\n",
       "      <td>1.000000</td>\n",
       "      <td>0.000000</td>\n",
       "      <td>1.0</td>\n",
       "      <td>1.00</td>\n",
       "      <td>1.0</td>\n",
       "      <td>1.00</td>\n",
       "      <td>1.0</td>\n",
       "    </tr>\n",
       "  </tbody>\n",
       "</table>\n",
       "</div>"
      ],
      "text/plain": [
       "                          count         mean          std     min      25%  \\\n",
       "Id                       1628.0   814.500000   470.107435     1.0   407.75   \n",
       "Age                      1628.0    35.645577     9.481794    18.0    29.00   \n",
       "Attrition                1628.0     0.482187     0.499836     0.0     0.00   \n",
       "DistanceFromHome         1628.0     9.735258     8.306546     1.0     2.00   \n",
       "Education                1628.0     2.884521     1.020470     1.0     2.00   \n",
       "EmployeeNumber           1628.0  1000.985872   585.417694     1.0   509.25   \n",
       "EnvironmentSatisfaction  1628.0     2.646192     1.125283     1.0     2.00   \n",
       "JobInvolvement           1628.0     2.650491     0.736330     1.0     2.00   \n",
       "JobSatisfaction          1628.0     2.639435     1.096272     1.0     2.00   \n",
       "MonthlyIncome            1628.0  5785.524570  4339.293147  1009.0  2625.00   \n",
       "NumCompaniesWorked       1628.0     2.761671     2.549995     0.0     1.00   \n",
       "PercentSalaryHike        1628.0    15.207617     3.686703    11.0    12.00   \n",
       "PerformanceRating        1628.0     3.155405     0.362402     3.0     3.00   \n",
       "StockOptionLevel         1628.0     0.692260     0.864808     0.0     0.00   \n",
       "TotalWorkingYears        1628.0     9.949017     7.482936     0.0     5.00   \n",
       "TrainingTimesLastYear    1628.0     2.752457     1.288033     0.0     2.00   \n",
       "YearsAtCompany           1628.0     6.092752     5.921168     0.0     2.00   \n",
       "YearsInCurrentRole       1628.0     3.614865     3.481051     0.0     1.00   \n",
       "YearsSinceLastPromotion  1628.0     2.049140     3.138287     0.0     0.00   \n",
       "YearsWithCurrManager     1628.0     3.551597     3.494369     0.0     0.00   \n",
       "CommunicationSkill       1628.0     3.135749     1.408770     1.0     2.00   \n",
       "Behaviour                1628.0     1.000000     0.000000     1.0     1.00   \n",
       "\n",
       "                            50%      75%      max  \n",
       "Id                        814.5  1221.25   1628.0  \n",
       "Age                        34.0    42.00     60.0  \n",
       "Attrition                   0.0     1.00      1.0  \n",
       "DistanceFromHome            8.0    15.00     29.0  \n",
       "Education                   3.0     4.00      5.0  \n",
       "EmployeeNumber            977.0  1494.00   2068.0  \n",
       "EnvironmentSatisfaction     3.0     4.00      4.0  \n",
       "JobInvolvement              3.0     3.00      4.0  \n",
       "JobSatisfaction             3.0     4.00      4.0  \n",
       "MonthlyIncome            4304.0  7124.25  19999.0  \n",
       "NumCompaniesWorked          2.0     4.00      9.0  \n",
       "PercentSalaryHike          14.0    18.00     25.0  \n",
       "PerformanceRating           3.0     3.00      4.0  \n",
       "StockOptionLevel            0.0     1.00      3.0  \n",
       "TotalWorkingYears           8.0    13.00     38.0  \n",
       "TrainingTimesLastYear       3.0     3.00      6.0  \n",
       "YearsAtCompany              5.0     8.00     37.0  \n",
       "YearsInCurrentRole          2.0     7.00     18.0  \n",
       "YearsSinceLastPromotion     1.0     2.00     15.0  \n",
       "YearsWithCurrManager        2.0     7.00     17.0  \n",
       "CommunicationSkill          3.0     4.00      5.0  \n",
       "Behaviour                   1.0     1.00      1.0  "
      ]
     },
     "execution_count": 5,
     "metadata": {},
     "output_type": "execute_result"
    }
   ],
   "source": [
    "train_df.describe(include = 'int').T"
   ]
  },
  {
   "cell_type": "code",
   "execution_count": 6,
   "metadata": {
    "execution": {
     "iopub.execute_input": "2020-11-25T11:41:29.963606Z",
     "iopub.status.busy": "2020-11-25T11:41:29.962878Z",
     "iopub.status.idle": "2020-11-25T11:41:30.009755Z",
     "shell.execute_reply": "2020-11-25T11:41:30.010236Z"
    },
    "papermill": {
     "duration": 0.093743,
     "end_time": "2020-11-25T11:41:30.010504",
     "exception": false,
     "start_time": "2020-11-25T11:41:29.916761",
     "status": "completed"
    },
    "tags": []
   },
   "outputs": [
    {
     "data": {
      "text/html": [
       "<div>\n",
       "<style scoped>\n",
       "    .dataframe tbody tr th:only-of-type {\n",
       "        vertical-align: middle;\n",
       "    }\n",
       "\n",
       "    .dataframe tbody tr th {\n",
       "        vertical-align: top;\n",
       "    }\n",
       "\n",
       "    .dataframe thead th {\n",
       "        text-align: right;\n",
       "    }\n",
       "</style>\n",
       "<table border=\"1\" class=\"dataframe\">\n",
       "  <thead>\n",
       "    <tr style=\"text-align: right;\">\n",
       "      <th></th>\n",
       "      <th>count</th>\n",
       "      <th>unique</th>\n",
       "      <th>top</th>\n",
       "      <th>freq</th>\n",
       "    </tr>\n",
       "  </thead>\n",
       "  <tbody>\n",
       "    <tr>\n",
       "      <th>BusinessTravel</th>\n",
       "      <td>1628</td>\n",
       "      <td>3</td>\n",
       "      <td>Travel_Rarely</td>\n",
       "      <td>1105</td>\n",
       "    </tr>\n",
       "    <tr>\n",
       "      <th>Department</th>\n",
       "      <td>1628</td>\n",
       "      <td>3</td>\n",
       "      <td>Research &amp; Development</td>\n",
       "      <td>979</td>\n",
       "    </tr>\n",
       "    <tr>\n",
       "      <th>EducationField</th>\n",
       "      <td>1628</td>\n",
       "      <td>6</td>\n",
       "      <td>Life Sciences</td>\n",
       "      <td>623</td>\n",
       "    </tr>\n",
       "    <tr>\n",
       "      <th>Gender</th>\n",
       "      <td>1628</td>\n",
       "      <td>2</td>\n",
       "      <td>Male</td>\n",
       "      <td>996</td>\n",
       "    </tr>\n",
       "    <tr>\n",
       "      <th>JobRole</th>\n",
       "      <td>1628</td>\n",
       "      <td>9</td>\n",
       "      <td>Sales Executive</td>\n",
       "      <td>365</td>\n",
       "    </tr>\n",
       "    <tr>\n",
       "      <th>MaritalStatus</th>\n",
       "      <td>1628</td>\n",
       "      <td>3</td>\n",
       "      <td>Married</td>\n",
       "      <td>681</td>\n",
       "    </tr>\n",
       "    <tr>\n",
       "      <th>OverTime</th>\n",
       "      <td>1628</td>\n",
       "      <td>2</td>\n",
       "      <td>No</td>\n",
       "      <td>1000</td>\n",
       "    </tr>\n",
       "  </tbody>\n",
       "</table>\n",
       "</div>"
      ],
      "text/plain": [
       "               count unique                     top  freq\n",
       "BusinessTravel  1628      3           Travel_Rarely  1105\n",
       "Department      1628      3  Research & Development   979\n",
       "EducationField  1628      6           Life Sciences   623\n",
       "Gender          1628      2                    Male   996\n",
       "JobRole         1628      9         Sales Executive   365\n",
       "MaritalStatus   1628      3                 Married   681\n",
       "OverTime        1628      2                      No  1000"
      ]
     },
     "execution_count": 6,
     "metadata": {},
     "output_type": "execute_result"
    }
   ],
   "source": [
    "train_df.describe(include = 'object').T"
   ]
  },
  {
   "cell_type": "markdown",
   "metadata": {
    "papermill": {
     "duration": 0.038107,
     "end_time": "2020-11-25T11:41:30.088987",
     "exception": false,
     "start_time": "2020-11-25T11:41:30.050880",
     "status": "completed"
    },
    "tags": []
   },
   "source": [
    "We see that JobRole, Gender, OverTime, EducationField, Department, BusinessTravel, MaritalStatus are categorical variables. And the rest are numeric. It's better to One Hot Encode the categorical variables."
   ]
  },
  {
   "cell_type": "markdown",
   "metadata": {
    "papermill": {
     "duration": 0.037849,
     "end_time": "2020-11-25T11:41:30.166700",
     "exception": false,
     "start_time": "2020-11-25T11:41:30.128851",
     "status": "completed"
    },
    "tags": []
   },
   "source": [
    "<hr>"
   ]
  },
  {
   "cell_type": "markdown",
   "metadata": {
    "papermill": {
     "duration": 0.039362,
     "end_time": "2020-11-25T11:41:30.244932",
     "exception": false,
     "start_time": "2020-11-25T11:41:30.205570",
     "status": "completed"
    },
    "tags": []
   },
   "source": [
    "Next, let's look at the number of unique values in each of the columns (attributes)"
   ]
  },
  {
   "cell_type": "code",
   "execution_count": 7,
   "metadata": {
    "execution": {
     "iopub.execute_input": "2020-11-25T11:41:30.328611Z",
     "iopub.status.busy": "2020-11-25T11:41:30.327909Z",
     "iopub.status.idle": "2020-11-25T11:41:30.343406Z",
     "shell.execute_reply": "2020-11-25T11:41:30.342849Z"
    },
    "papermill": {
     "duration": 0.059194,
     "end_time": "2020-11-25T11:41:30.343545",
     "exception": false,
     "start_time": "2020-11-25T11:41:30.284351",
     "status": "completed"
    },
    "scrolled": true,
    "tags": []
   },
   "outputs": [
    {
     "data": {
      "text/plain": [
       "Behaviour                     1\n",
       "PerformanceRating             2\n",
       "Attrition                     2\n",
       "OverTime                      2\n",
       "Gender                        2\n",
       "MaritalStatus                 3\n",
       "BusinessTravel                3\n",
       "Department                    3\n",
       "StockOptionLevel              4\n",
       "EnvironmentSatisfaction       4\n",
       "JobInvolvement                4\n",
       "JobSatisfaction               4\n",
       "CommunicationSkill            5\n",
       "Education                     5\n",
       "EducationField                6\n",
       "TrainingTimesLastYear         7\n",
       "JobRole                       9\n",
       "NumCompaniesWorked           10\n",
       "PercentSalaryHike            15\n",
       "YearsSinceLastPromotion      16\n",
       "YearsWithCurrManager         18\n",
       "YearsInCurrentRole           19\n",
       "DistanceFromHome             29\n",
       "YearsAtCompany               36\n",
       "TotalWorkingYears            39\n",
       "Age                          43\n",
       "MonthlyIncome               941\n",
       "EmployeeNumber             1000\n",
       "Id                         1628\n",
       "dtype: int64"
      ]
     },
     "execution_count": 7,
     "metadata": {},
     "output_type": "execute_result"
    }
   ],
   "source": [
    "no_unique_values = train_df.nunique().sort_values()\n",
    "no_unique_values"
   ]
  },
  {
   "cell_type": "markdown",
   "metadata": {
    "papermill": {
     "duration": 0.048541,
     "end_time": "2020-11-25T11:41:30.430655",
     "exception": false,
     "start_time": "2020-11-25T11:41:30.382114",
     "status": "completed"
    },
    "tags": []
   },
   "source": [
    "By looking at the above we can know that 'Behaviour' and 'Id' are redundant. Behaviour has a constant value and Id is, well just Id which is unique for all rows. So these two columns can be dropped."
   ]
  },
  {
   "cell_type": "markdown",
   "metadata": {
    "papermill": {
     "duration": 0.058171,
     "end_time": "2020-11-25T11:41:30.538728",
     "exception": false,
     "start_time": "2020-11-25T11:41:30.480557",
     "status": "completed"
    },
    "tags": []
   },
   "source": [
    "<hr>"
   ]
  },
  {
   "cell_type": "markdown",
   "metadata": {
    "papermill": {
     "duration": 0.040832,
     "end_time": "2020-11-25T11:41:30.624043",
     "exception": false,
     "start_time": "2020-11-25T11:41:30.583211",
     "status": "completed"
    },
    "tags": []
   },
   "source": [
    "**Checking for null values**\n",
    "\n",
    "Next, inorder to check for missing values (if any), I plotted the Heatmap of null values."
   ]
  },
  {
   "cell_type": "code",
   "execution_count": 8,
   "metadata": {
    "execution": {
     "iopub.execute_input": "2020-11-25T11:41:30.708619Z",
     "iopub.status.busy": "2020-11-25T11:41:30.707894Z",
     "iopub.status.idle": "2020-11-25T11:41:31.143356Z",
     "shell.execute_reply": "2020-11-25T11:41:31.142793Z"
    },
    "papermill": {
     "duration": 0.480594,
     "end_time": "2020-11-25T11:41:31.143471",
     "exception": false,
     "start_time": "2020-11-25T11:41:30.662877",
     "status": "completed"
    },
    "scrolled": false,
    "tags": []
   },
   "outputs": [
    {
     "data": {
      "image/png": "[encoded data removed]",
      "text/plain": [
       "<Figure size 432x288 with 2 Axes>"
      ]
     },
     "metadata": {
      "needs_background": "light"
     },
     "output_type": "display_data"
    }
   ],
   "source": [
    "#This checks for missing values \n",
    "sns.heatmap(train_df.isnull());"
   ]
  },
  {
   "cell_type": "markdown",
   "metadata": {
    "papermill": {
     "duration": 0.039617,
     "end_time": "2020-11-25T11:41:31.223002",
     "exception": false,
     "start_time": "2020-11-25T11:41:31.183385",
     "status": "completed"
    },
    "tags": []
   },
   "source": [
    "The above plot shows that there are no missing values in our dataset."
   ]
  },
  {
   "cell_type": "markdown",
   "metadata": {
    "papermill": {
     "duration": 0.040272,
     "end_time": "2020-11-25T11:41:31.303153",
     "exception": false,
     "start_time": "2020-11-25T11:41:31.262881",
     "status": "completed"
    },
    "tags": []
   },
   "source": [
    "<hr>"
   ]
  },
  {
   "cell_type": "markdown",
   "metadata": {
    "papermill": {
     "duration": 0.039838,
     "end_time": "2020-11-25T11:41:31.383716",
     "exception": false,
     "start_time": "2020-11-25T11:41:31.343878",
     "status": "completed"
    },
    "tags": []
   },
   "source": [
    "**Checking for imbalance in the dataset attributes**"
   ]
  },
  {
   "cell_type": "markdown",
   "metadata": {
    "papermill": {
     "duration": 0.04113,
     "end_time": "2020-11-25T11:41:31.466976",
     "exception": false,
     "start_time": "2020-11-25T11:41:31.425846",
     "status": "completed"
    },
    "tags": []
   },
   "source": [
    "**Labels**"
   ]
  },
  {
   "cell_type": "code",
   "execution_count": 9,
   "metadata": {
    "execution": {
     "iopub.execute_input": "2020-11-25T11:41:31.555572Z",
     "iopub.status.busy": "2020-11-25T11:41:31.554330Z",
     "iopub.status.idle": "2020-11-25T11:41:31.663819Z",
     "shell.execute_reply": "2020-11-25T11:41:31.663220Z"
    },
    "papermill": {
     "duration": 0.156256,
     "end_time": "2020-11-25T11:41:31.663952",
     "exception": false,
     "start_time": "2020-11-25T11:41:31.507696",
     "status": "completed"
    },
    "tags": []
   },
   "outputs": [
    {
     "data": {
      "image/png": "[encoded data removed]",
      "text/plain": [
       "<Figure size 360x360 with 1 Axes>"
      ]
     },
     "metadata": {
      "needs_background": "light"
     },
     "output_type": "display_data"
    }
   ],
   "source": [
    "plt.figure(figsize = (5,5))\n",
    "sns.countplot(train_df.Attrition);"
   ]
  },
  {
   "cell_type": "markdown",
   "metadata": {
    "papermill": {
     "duration": 0.04036,
     "end_time": "2020-11-25T11:41:31.745591",
     "exception": false,
     "start_time": "2020-11-25T11:41:31.705231",
     "status": "completed"
    },
    "tags": []
   },
   "source": [
    "The dataset is almost balanced"
   ]
  },
  {
   "cell_type": "markdown",
   "metadata": {
    "papermill": {
     "duration": 0.040161,
     "end_time": "2020-11-25T11:41:31.826355",
     "exception": false,
     "start_time": "2020-11-25T11:41:31.786194",
     "status": "completed"
    },
    "tags": []
   },
   "source": [
    "**Numerical Data**"
   ]
  },
  {
   "cell_type": "code",
   "execution_count": 10,
   "metadata": {
    "execution": {
     "iopub.execute_input": "2020-11-25T11:41:31.915773Z",
     "iopub.status.busy": "2020-11-25T11:41:31.915067Z",
     "iopub.status.idle": "2020-11-25T11:41:34.641619Z",
     "shell.execute_reply": "2020-11-25T11:41:34.642206Z"
    },
    "papermill": {
     "duration": 2.774921,
     "end_time": "2020-11-25T11:41:34.642385",
     "exception": false,
     "start_time": "2020-11-25T11:41:31.867464",
     "status": "completed"
    },
    "tags": []
   },
   "outputs": [
    {
     "data": {
      "image/png": "[encoded data removed]",
      "text/plain": [
       "<Figure size 1440x1440 with 20 Axes>"
      ]
     },
     "metadata": {
      "needs_background": "light"
     },
     "output_type": "display_data"
    }
   ],
   "source": [
    "train_features = train_df.drop(['Id','Attrition', 'Behaviour'], axis = 1)\n",
    "train_features.hist(figsize = (20,20), grid = False);"
   ]
  },
  {
   "cell_type": "markdown",
   "metadata": {
    "papermill": {
     "duration": 0.042223,
     "end_time": "2020-11-25T11:41:34.727398",
     "exception": false,
     "start_time": "2020-11-25T11:41:34.685175",
     "status": "completed"
    },
    "tags": []
   },
   "source": [
    "From the above graphs, we can see that some features like DistanceFromHome and MonthlyIncome are highly skewed. We will take care of these later."
   ]
  },
  {
   "cell_type": "markdown",
   "metadata": {
    "papermill": {
     "duration": 0.091432,
     "end_time": "2020-11-25T11:41:34.862630",
     "exception": false,
     "start_time": "2020-11-25T11:41:34.771198",
     "status": "completed"
    },
    "tags": []
   },
   "source": [
    "**Categorical Data**"
   ]
  },
  {
   "cell_type": "code",
   "execution_count": 11,
   "metadata": {
    "execution": {
     "iopub.execute_input": "2020-11-25T11:41:34.957714Z",
     "iopub.status.busy": "2020-11-25T11:41:34.956682Z",
     "iopub.status.idle": "2020-11-25T11:41:35.619640Z",
     "shell.execute_reply": "2020-11-25T11:41:35.619082Z"
    },
    "papermill": {
     "duration": 0.714689,
     "end_time": "2020-11-25T11:41:35.619762",
     "exception": false,
     "start_time": "2020-11-25T11:41:34.905073",
     "status": "completed"
    },
    "tags": []
   },
   "outputs": [
    {
     "data": {
      "image/png": "[encoded data removed]",
      "text/plain": [
       "<Figure size 1440x1440 with 7 Axes>"
      ]
     },
     "metadata": {
      "needs_background": "light"
     },
     "output_type": "display_data"
    }
   ],
   "source": [
    "train_categorical = train_features.select_dtypes('object')\n",
    "plt.figure(figsize = (20, 20))\n",
    "for _ in range(train_categorical.shape[1]):\n",
    "    x = train_categorical.iloc[:, _]\n",
    "    plt.subplot(7, 4, _+1)\n",
    "    plt.subplots_adjust(hspace=2)\n",
    "    plt.xticks(rotation=60)\n",
    "    sns.countplot(x)"
   ]
  },
  {
   "cell_type": "markdown",
   "metadata": {
    "papermill": {
     "duration": 0.044896,
     "end_time": "2020-11-25T11:41:35.709048",
     "exception": false,
     "start_time": "2020-11-25T11:41:35.664152",
     "status": "completed"
    },
    "tags": []
   },
   "source": [
    "<hr>"
   ]
  },
  {
   "cell_type": "markdown",
   "metadata": {
    "papermill": {
     "duration": 0.048343,
     "end_time": "2020-11-25T11:41:35.806806",
     "exception": false,
     "start_time": "2020-11-25T11:41:35.758463",
     "status": "completed"
    },
    "tags": []
   },
   "source": [
    "## Taking Care of the Categorical and Numerical variables"
   ]
  },
  {
   "cell_type": "markdown",
   "metadata": {
    "papermill": {
     "duration": 0.044409,
     "end_time": "2020-11-25T11:41:35.896935",
     "exception": false,
     "start_time": "2020-11-25T11:41:35.852526",
     "status": "completed"
    },
    "tags": []
   },
   "source": [
    "Finding the correlation b/w the variables. Continuous-continuous, categorical-categorical, continuous-categorical. We need to scale the continuous variables before calculating the correlations."
   ]
  },
  {
   "cell_type": "markdown",
   "metadata": {
    "papermill": {
     "duration": 0.045563,
     "end_time": "2020-11-25T11:41:35.988223",
     "exception": false,
     "start_time": "2020-11-25T11:41:35.942660",
     "status": "completed"
    },
    "tags": []
   },
   "source": [
    "#### Separating the Nominal and Ordinal Categorical features from the dataset"
   ]
  },
  {
   "cell_type": "code",
   "execution_count": 12,
   "metadata": {
    "execution": {
     "iopub.execute_input": "2020-11-25T11:41:36.088782Z",
     "iopub.status.busy": "2020-11-25T11:41:36.088109Z",
     "iopub.status.idle": "2020-11-25T11:41:36.094496Z",
     "shell.execute_reply": "2020-11-25T11:41:36.093883Z"
    },
    "papermill": {
     "duration": 0.059868,
     "end_time": "2020-11-25T11:41:36.094623",
     "exception": false,
     "start_time": "2020-11-25T11:41:36.034755",
     "status": "completed"
    },
    "tags": []
   },
   "outputs": [
    {
     "data": {
      "text/plain": [
       "['BusinessTravel',\n",
       " 'Department',\n",
       " 'EducationField',\n",
       " 'Gender',\n",
       " 'JobRole',\n",
       " 'MaritalStatus',\n",
       " 'OverTime']"
      ]
     },
     "execution_count": 12,
     "metadata": {},
     "output_type": "execute_result"
    }
   ],
   "source": [
    "nom_catg_col = list(train_df.select_dtypes(['object']).columns)\n",
    "nom_catg_col"
   ]
  },
  {
   "cell_type": "code",
   "execution_count": 13,
   "metadata": {
    "execution": {
     "iopub.execute_input": "2020-11-25T11:41:36.193987Z",
     "iopub.status.busy": "2020-11-25T11:41:36.192920Z",
     "iopub.status.idle": "2020-11-25T11:41:36.197268Z",
     "shell.execute_reply": "2020-11-25T11:41:36.196654Z"
    },
    "papermill": {
     "duration": 0.054696,
     "end_time": "2020-11-25T11:41:36.197400",
     "exception": false,
     "start_time": "2020-11-25T11:41:36.142704",
     "status": "completed"
    },
    "tags": []
   },
   "outputs": [
    {
     "data": {
      "text/plain": [
       "['Education',\n",
       " 'EnvironmentSatisfaction',\n",
       " 'JobInvolvement',\n",
       " 'JobSatisfaction',\n",
       " 'PerformanceRating',\n",
       " 'StockOptionLevel',\n",
       " 'CommunicationSkill',\n",
       " 'Behaviour']"
      ]
     },
     "execution_count": 13,
     "metadata": {},
     "output_type": "execute_result"
    }
   ],
   "source": [
    "ord_catg_col = [\"Education\", \"EnvironmentSatisfaction\", \"JobInvolvement\",\"JobSatisfaction\",\n",
    "                    \"PerformanceRating\",\"StockOptionLevel\",\"CommunicationSkill\", \"Behaviour\"]\n",
    "ord_catg_col"
   ]
  },
  {
   "cell_type": "code",
   "execution_count": 14,
   "metadata": {
    "execution": {
     "iopub.execute_input": "2020-11-25T11:41:36.296879Z",
     "iopub.status.busy": "2020-11-25T11:41:36.294727Z",
     "iopub.status.idle": "2020-11-25T11:41:36.312605Z",
     "shell.execute_reply": "2020-11-25T11:41:36.313117Z"
    },
    "papermill": {
     "duration": 0.069694,
     "end_time": "2020-11-25T11:41:36.313263",
     "exception": false,
     "start_time": "2020-11-25T11:41:36.243569",
     "status": "completed"
    },
    "tags": []
   },
   "outputs": [
    {
     "data": {
      "text/html": [
       "<div>\n",
       "<style scoped>\n",
       "    .dataframe tbody tr th:only-of-type {\n",
       "        vertical-align: middle;\n",
       "    }\n",
       "\n",
       "    .dataframe tbody tr th {\n",
       "        vertical-align: top;\n",
       "    }\n",
       "\n",
       "    .dataframe thead th {\n",
       "        text-align: right;\n",
       "    }\n",
       "</style>\n",
       "<table border=\"1\" class=\"dataframe\">\n",
       "  <thead>\n",
       "    <tr style=\"text-align: right;\">\n",
       "      <th></th>\n",
       "      <th>BusinessTravel</th>\n",
       "      <th>Department</th>\n",
       "      <th>EducationField</th>\n",
       "      <th>Gender</th>\n",
       "      <th>JobRole</th>\n",
       "      <th>MaritalStatus</th>\n",
       "      <th>OverTime</th>\n",
       "      <th>Education</th>\n",
       "      <th>EnvironmentSatisfaction</th>\n",
       "      <th>JobInvolvement</th>\n",
       "      <th>JobSatisfaction</th>\n",
       "      <th>PerformanceRating</th>\n",
       "      <th>StockOptionLevel</th>\n",
       "      <th>CommunicationSkill</th>\n",
       "      <th>Behaviour</th>\n",
       "    </tr>\n",
       "  </thead>\n",
       "  <tbody>\n",
       "    <tr>\n",
       "      <th>0</th>\n",
       "      <td>Non-Travel</td>\n",
       "      <td>Research &amp; Development</td>\n",
       "      <td>Medical</td>\n",
       "      <td>Female</td>\n",
       "      <td>Laboratory Technician</td>\n",
       "      <td>Single</td>\n",
       "      <td>No</td>\n",
       "      <td>3</td>\n",
       "      <td>3</td>\n",
       "      <td>3</td>\n",
       "      <td>4</td>\n",
       "      <td>3</td>\n",
       "      <td>0</td>\n",
       "      <td>4</td>\n",
       "      <td>1</td>\n",
       "    </tr>\n",
       "    <tr>\n",
       "      <th>1</th>\n",
       "      <td>Travel_Rarely</td>\n",
       "      <td>Research &amp; Development</td>\n",
       "      <td>Life Sciences</td>\n",
       "      <td>Female</td>\n",
       "      <td>Manufacturing Director</td>\n",
       "      <td>Married</td>\n",
       "      <td>Yes</td>\n",
       "      <td>4</td>\n",
       "      <td>3</td>\n",
       "      <td>3</td>\n",
       "      <td>3</td>\n",
       "      <td>3</td>\n",
       "      <td>2</td>\n",
       "      <td>2</td>\n",
       "      <td>1</td>\n",
       "    </tr>\n",
       "    <tr>\n",
       "      <th>2</th>\n",
       "      <td>Travel_Rarely</td>\n",
       "      <td>Sales</td>\n",
       "      <td>Medical</td>\n",
       "      <td>Male</td>\n",
       "      <td>Sales Executive</td>\n",
       "      <td>Single</td>\n",
       "      <td>No</td>\n",
       "      <td>1</td>\n",
       "      <td>3</td>\n",
       "      <td>3</td>\n",
       "      <td>4</td>\n",
       "      <td>3</td>\n",
       "      <td>0</td>\n",
       "      <td>5</td>\n",
       "      <td>1</td>\n",
       "    </tr>\n",
       "    <tr>\n",
       "      <th>3</th>\n",
       "      <td>Travel_Rarely</td>\n",
       "      <td>Research &amp; Development</td>\n",
       "      <td>Life Sciences</td>\n",
       "      <td>Male</td>\n",
       "      <td>Research Scientist</td>\n",
       "      <td>Single</td>\n",
       "      <td>No</td>\n",
       "      <td>1</td>\n",
       "      <td>1</td>\n",
       "      <td>3</td>\n",
       "      <td>4</td>\n",
       "      <td>3</td>\n",
       "      <td>0</td>\n",
       "      <td>4</td>\n",
       "      <td>1</td>\n",
       "    </tr>\n",
       "    <tr>\n",
       "      <th>4</th>\n",
       "      <td>Travel_Rarely</td>\n",
       "      <td>Research &amp; Development</td>\n",
       "      <td>Other</td>\n",
       "      <td>Male</td>\n",
       "      <td>Manufacturing Director</td>\n",
       "      <td>Married</td>\n",
       "      <td>No</td>\n",
       "      <td>3</td>\n",
       "      <td>3</td>\n",
       "      <td>3</td>\n",
       "      <td>3</td>\n",
       "      <td>3</td>\n",
       "      <td>1</td>\n",
       "      <td>1</td>\n",
       "      <td>1</td>\n",
       "    </tr>\n",
       "  </tbody>\n",
       "</table>\n",
       "</div>"
      ],
      "text/plain": [
       "  BusinessTravel              Department EducationField  Gender  \\\n",
       "0     Non-Travel  Research & Development        Medical  Female   \n",
       "1  Travel_Rarely  Research & Development  Life Sciences  Female   \n",
       "2  Travel_Rarely                   Sales        Medical    Male   \n",
       "3  Travel_Rarely  Research & Development  Life Sciences    Male   \n",
       "4  Travel_Rarely  Research & Development          Other    Male   \n",
       "\n",
       "                  JobRole MaritalStatus OverTime  Education  \\\n",
       "0   Laboratory Technician        Single       No          3   \n",
       "1  Manufacturing Director       Married      Yes          4   \n",
       "2         Sales Executive        Single       No          1   \n",
       "3      Research Scientist        Single       No          1   \n",
       "4  Manufacturing Director       Married       No          3   \n",
       "\n",
       "   EnvironmentSatisfaction  JobInvolvement  JobSatisfaction  \\\n",
       "0                        3               3                4   \n",
       "1                        3               3                3   \n",
       "2                        3               3                4   \n",
       "3                        1               3                4   \n",
       "4                        3               3                3   \n",
       "\n",
       "   PerformanceRating  StockOptionLevel  CommunicationSkill  Behaviour  \n",
       "0                  3                 0                   4          1  \n",
       "1                  3                 2                   2          1  \n",
       "2                  3                 0                   5          1  \n",
       "3                  3                 0                   4          1  \n",
       "4                  3                 1                   1          1  "
      ]
     },
     "execution_count": 14,
     "metadata": {},
     "output_type": "execute_result"
    }
   ],
   "source": [
    "catg_col_list = nom_catg_col + ord_catg_col\n",
    "catg_col_df = train_df[catg_col_list]\n",
    "catg_col_df.head()"
   ]
  },
  {
   "cell_type": "markdown",
   "metadata": {
    "papermill": {
     "duration": 0.046267,
     "end_time": "2020-11-25T11:41:36.405704",
     "exception": false,
     "start_time": "2020-11-25T11:41:36.359437",
     "status": "completed"
    },
    "tags": []
   },
   "source": [
    "<hr>"
   ]
  },
  {
   "cell_type": "markdown",
   "metadata": {
    "papermill": {
     "duration": 0.046363,
     "end_time": "2020-11-25T11:41:36.499001",
     "exception": false,
     "start_time": "2020-11-25T11:41:36.452638",
     "status": "completed"
    },
    "tags": []
   },
   "source": [
    "## One Hot Encoding for the Nominal Variables"
   ]
  },
  {
   "cell_type": "markdown",
   "metadata": {
    "papermill": {
     "duration": 0.046582,
     "end_time": "2020-11-25T11:41:36.591511",
     "exception": false,
     "start_time": "2020-11-25T11:41:36.544929",
     "status": "completed"
    },
    "tags": []
   },
   "source": [
    "The nominal variables, which are 'BusinessTravel', 'Department', 'EducationField', 'Gender', 'JobRole', 'MaritalStatus', 'OverTime' are One Hot Encoded."
   ]
  },
  {
   "cell_type": "code",
   "execution_count": 15,
   "metadata": {
    "execution": {
     "iopub.execute_input": "2020-11-25T11:41:36.695875Z",
     "iopub.status.busy": "2020-11-25T11:41:36.695098Z",
     "iopub.status.idle": "2020-11-25T11:41:36.723817Z",
     "shell.execute_reply": "2020-11-25T11:41:36.723277Z"
    },
    "papermill": {
     "duration": 0.082249,
     "end_time": "2020-11-25T11:41:36.723947",
     "exception": false,
     "start_time": "2020-11-25T11:41:36.641698",
     "status": "completed"
    },
    "scrolled": false,
    "tags": []
   },
   "outputs": [
    {
     "data": {
      "text/html": [
       "<div>\n",
       "<style scoped>\n",
       "    .dataframe tbody tr th:only-of-type {\n",
       "        vertical-align: middle;\n",
       "    }\n",
       "\n",
       "    .dataframe tbody tr th {\n",
       "        vertical-align: top;\n",
       "    }\n",
       "\n",
       "    .dataframe thead th {\n",
       "        text-align: right;\n",
       "    }\n",
       "</style>\n",
       "<table border=\"1\" class=\"dataframe\">\n",
       "  <thead>\n",
       "    <tr style=\"text-align: right;\">\n",
       "      <th></th>\n",
       "      <th>Education</th>\n",
       "      <th>EnvironmentSatisfaction</th>\n",
       "      <th>JobInvolvement</th>\n",
       "      <th>JobSatisfaction</th>\n",
       "      <th>PerformanceRating</th>\n",
       "      <th>StockOptionLevel</th>\n",
       "      <th>CommunicationSkill</th>\n",
       "      <th>Behaviour</th>\n",
       "      <th>BusinessTravel_Travel_Frequently</th>\n",
       "      <th>BusinessTravel_Travel_Rarely</th>\n",
       "      <th>Department_Research &amp; Development</th>\n",
       "      <th>Department_Sales</th>\n",
       "      <th>EducationField_Life Sciences</th>\n",
       "      <th>EducationField_Marketing</th>\n",
       "      <th>EducationField_Medical</th>\n",
       "      <th>EducationField_Other</th>\n",
       "      <th>EducationField_Technical Degree</th>\n",
       "      <th>Gender_Male</th>\n",
       "      <th>JobRole_Human Resources</th>\n",
       "      <th>JobRole_Laboratory Technician</th>\n",
       "      <th>JobRole_Manager</th>\n",
       "      <th>JobRole_Manufacturing Director</th>\n",
       "      <th>JobRole_Research Director</th>\n",
       "      <th>JobRole_Research Scientist</th>\n",
       "      <th>JobRole_Sales Executive</th>\n",
       "      <th>JobRole_Sales Representative</th>\n",
       "      <th>MaritalStatus_Married</th>\n",
       "      <th>MaritalStatus_Single</th>\n",
       "      <th>OverTime_Yes</th>\n",
       "    </tr>\n",
       "  </thead>\n",
       "  <tbody>\n",
       "    <tr>\n",
       "      <th>0</th>\n",
       "      <td>3</td>\n",
       "      <td>3</td>\n",
       "      <td>3</td>\n",
       "      <td>4</td>\n",
       "      <td>3</td>\n",
       "      <td>0</td>\n",
       "      <td>4</td>\n",
       "      <td>1</td>\n",
       "      <td>0</td>\n",
       "      <td>0</td>\n",
       "      <td>1</td>\n",
       "      <td>0</td>\n",
       "      <td>0</td>\n",
       "      <td>0</td>\n",
       "      <td>1</td>\n",
       "      <td>0</td>\n",
       "      <td>0</td>\n",
       "      <td>0</td>\n",
       "      <td>0</td>\n",
       "      <td>1</td>\n",
       "      <td>0</td>\n",
       "      <td>0</td>\n",
       "      <td>0</td>\n",
       "      <td>0</td>\n",
       "      <td>0</td>\n",
       "      <td>0</td>\n",
       "      <td>0</td>\n",
       "      <td>1</td>\n",
       "      <td>0</td>\n",
       "    </tr>\n",
       "    <tr>\n",
       "      <th>1</th>\n",
       "      <td>4</td>\n",
       "      <td>3</td>\n",
       "      <td>3</td>\n",
       "      <td>3</td>\n",
       "      <td>3</td>\n",
       "      <td>2</td>\n",
       "      <td>2</td>\n",
       "      <td>1</td>\n",
       "      <td>0</td>\n",
       "      <td>1</td>\n",
       "      <td>1</td>\n",
       "      <td>0</td>\n",
       "      <td>1</td>\n",
       "      <td>0</td>\n",
       "      <td>0</td>\n",
       "      <td>0</td>\n",
       "      <td>0</td>\n",
       "      <td>0</td>\n",
       "      <td>0</td>\n",
       "      <td>0</td>\n",
       "      <td>0</td>\n",
       "      <td>1</td>\n",
       "      <td>0</td>\n",
       "      <td>0</td>\n",
       "      <td>0</td>\n",
       "      <td>0</td>\n",
       "      <td>1</td>\n",
       "      <td>0</td>\n",
       "      <td>1</td>\n",
       "    </tr>\n",
       "    <tr>\n",
       "      <th>2</th>\n",
       "      <td>1</td>\n",
       "      <td>3</td>\n",
       "      <td>3</td>\n",
       "      <td>4</td>\n",
       "      <td>3</td>\n",
       "      <td>0</td>\n",
       "      <td>5</td>\n",
       "      <td>1</td>\n",
       "      <td>0</td>\n",
       "      <td>1</td>\n",
       "      <td>0</td>\n",
       "      <td>1</td>\n",
       "      <td>0</td>\n",
       "      <td>0</td>\n",
       "      <td>1</td>\n",
       "      <td>0</td>\n",
       "      <td>0</td>\n",
       "      <td>1</td>\n",
       "      <td>0</td>\n",
       "      <td>0</td>\n",
       "      <td>0</td>\n",
       "      <td>0</td>\n",
       "      <td>0</td>\n",
       "      <td>0</td>\n",
       "      <td>1</td>\n",
       "      <td>0</td>\n",
       "      <td>0</td>\n",
       "      <td>1</td>\n",
       "      <td>0</td>\n",
       "    </tr>\n",
       "    <tr>\n",
       "      <th>3</th>\n",
       "      <td>1</td>\n",
       "      <td>1</td>\n",
       "      <td>3</td>\n",
       "      <td>4</td>\n",
       "      <td>3</td>\n",
       "      <td>0</td>\n",
       "      <td>4</td>\n",
       "      <td>1</td>\n",
       "      <td>0</td>\n",
       "      <td>1</td>\n",
       "      <td>1</td>\n",
       "      <td>0</td>\n",
       "      <td>1</td>\n",
       "      <td>0</td>\n",
       "      <td>0</td>\n",
       "      <td>0</td>\n",
       "      <td>0</td>\n",
       "      <td>1</td>\n",
       "      <td>0</td>\n",
       "      <td>0</td>\n",
       "      <td>0</td>\n",
       "      <td>0</td>\n",
       "      <td>0</td>\n",
       "      <td>1</td>\n",
       "      <td>0</td>\n",
       "      <td>0</td>\n",
       "      <td>0</td>\n",
       "      <td>1</td>\n",
       "      <td>0</td>\n",
       "    </tr>\n",
       "    <tr>\n",
       "      <th>4</th>\n",
       "      <td>3</td>\n",
       "      <td>3</td>\n",
       "      <td>3</td>\n",
       "      <td>3</td>\n",
       "      <td>3</td>\n",
       "      <td>1</td>\n",
       "      <td>1</td>\n",
       "      <td>1</td>\n",
       "      <td>0</td>\n",
       "      <td>1</td>\n",
       "      <td>1</td>\n",
       "      <td>0</td>\n",
       "      <td>0</td>\n",
       "      <td>0</td>\n",
       "      <td>0</td>\n",
       "      <td>1</td>\n",
       "      <td>0</td>\n",
       "      <td>1</td>\n",
       "      <td>0</td>\n",
       "      <td>0</td>\n",
       "      <td>0</td>\n",
       "      <td>1</td>\n",
       "      <td>0</td>\n",
       "      <td>0</td>\n",
       "      <td>0</td>\n",
       "      <td>0</td>\n",
       "      <td>1</td>\n",
       "      <td>0</td>\n",
       "      <td>0</td>\n",
       "    </tr>\n",
       "  </tbody>\n",
       "</table>\n",
       "</div>"
      ],
      "text/plain": [
       "   Education  EnvironmentSatisfaction  JobInvolvement  JobSatisfaction  \\\n",
       "0          3                        3               3                4   \n",
       "1          4                        3               3                3   \n",
       "2          1                        3               3                4   \n",
       "3          1                        1               3                4   \n",
       "4          3                        3               3                3   \n",
       "\n",
       "   PerformanceRating  StockOptionLevel  CommunicationSkill  Behaviour  \\\n",
       "0                  3                 0                   4          1   \n",
       "1                  3                 2                   2          1   \n",
       "2                  3                 0                   5          1   \n",
       "3                  3                 0                   4          1   \n",
       "4                  3                 1                   1          1   \n",
       "\n",
       "   BusinessTravel_Travel_Frequently  BusinessTravel_Travel_Rarely  \\\n",
       "0                                 0                             0   \n",
       "1                                 0                             1   \n",
       "2                                 0                             1   \n",
       "3                                 0                             1   \n",
       "4                                 0                             1   \n",
       "\n",
       "   Department_Research & Development  Department_Sales  \\\n",
       "0                                  1                 0   \n",
       "1                                  1                 0   \n",
       "2                                  0                 1   \n",
       "3                                  1                 0   \n",
       "4                                  1                 0   \n",
       "\n",
       "   EducationField_Life Sciences  EducationField_Marketing  \\\n",
       "0                             0                         0   \n",
       "1                             1                         0   \n",
       "2                             0                         0   \n",
       "3                             1                         0   \n",
       "4                             0                         0   \n",
       "\n",
       "   EducationField_Medical  EducationField_Other  \\\n",
       "0                       1                     0   \n",
       "1                       0                     0   \n",
       "2                       1                     0   \n",
       "3                       0                     0   \n",
       "4                       0                     1   \n",
       "\n",
       "   EducationField_Technical Degree  Gender_Male  JobRole_Human Resources  \\\n",
       "0                                0            0                        0   \n",
       "1                                0            0                        0   \n",
       "2                                0            1                        0   \n",
       "3                                0            1                        0   \n",
       "4                                0            1                        0   \n",
       "\n",
       "   JobRole_Laboratory Technician  JobRole_Manager  \\\n",
       "0                              1                0   \n",
       "1                              0                0   \n",
       "2                              0                0   \n",
       "3                              0                0   \n",
       "4                              0                0   \n",
       "\n",
       "   JobRole_Manufacturing Director  JobRole_Research Director  \\\n",
       "0                               0                          0   \n",
       "1                               1                          0   \n",
       "2                               0                          0   \n",
       "3                               0                          0   \n",
       "4                               1                          0   \n",
       "\n",
       "   JobRole_Research Scientist  JobRole_Sales Executive  \\\n",
       "0                           0                        0   \n",
       "1                           0                        0   \n",
       "2                           0                        1   \n",
       "3                           1                        0   \n",
       "4                           0                        0   \n",
       "\n",
       "   JobRole_Sales Representative  MaritalStatus_Married  MaritalStatus_Single  \\\n",
       "0                             0                      0                     1   \n",
       "1                             0                      1                     0   \n",
       "2                             0                      0                     1   \n",
       "3                             0                      0                     1   \n",
       "4                             0                      1                     0   \n",
       "\n",
       "   OverTime_Yes  \n",
       "0             0  \n",
       "1             1  \n",
       "2             0  \n",
       "3             0  \n",
       "4             0  "
      ]
     },
     "execution_count": 15,
     "metadata": {},
     "output_type": "execute_result"
    }
   ],
   "source": [
    "df_hot_enc_catg = pd.get_dummies(catg_col_df, columns = nom_catg_col, drop_first = True) #one hot encoding the nominal variables\n",
    "df_hot_enc_catg.head()"
   ]
  },
  {
   "cell_type": "markdown",
   "metadata": {
    "papermill": {
     "duration": 0.046983,
     "end_time": "2020-11-25T11:41:36.818806",
     "exception": false,
     "start_time": "2020-11-25T11:41:36.771823",
     "status": "completed"
    },
    "tags": []
   },
   "source": [
    "<hr>"
   ]
  },
  {
   "cell_type": "markdown",
   "metadata": {
    "papermill": {
     "duration": 0.046942,
     "end_time": "2020-11-25T11:41:36.913543",
     "exception": false,
     "start_time": "2020-11-25T11:41:36.866601",
     "status": "completed"
    },
    "tags": []
   },
   "source": [
    "## Scaling the Numerical Variables"
   ]
  },
  {
   "cell_type": "code",
   "execution_count": 16,
   "metadata": {
    "execution": {
     "iopub.execute_input": "2020-11-25T11:41:37.025655Z",
     "iopub.status.busy": "2020-11-25T11:41:37.024523Z",
     "iopub.status.idle": "2020-11-25T11:41:37.029541Z",
     "shell.execute_reply": "2020-11-25T11:41:37.028987Z"
    },
    "papermill": {
     "duration": 0.069209,
     "end_time": "2020-11-25T11:41:37.029671",
     "exception": false,
     "start_time": "2020-11-25T11:41:36.960462",
     "status": "completed"
    },
    "tags": []
   },
   "outputs": [
    {
     "data": {
      "text/html": [
       "<div>\n",
       "<style scoped>\n",
       "    .dataframe tbody tr th:only-of-type {\n",
       "        vertical-align: middle;\n",
       "    }\n",
       "\n",
       "    .dataframe tbody tr th {\n",
       "        vertical-align: top;\n",
       "    }\n",
       "\n",
       "    .dataframe thead th {\n",
       "        text-align: right;\n",
       "    }\n",
       "</style>\n",
       "<table border=\"1\" class=\"dataframe\">\n",
       "  <thead>\n",
       "    <tr style=\"text-align: right;\">\n",
       "      <th></th>\n",
       "      <th>YearsAtCompany</th>\n",
       "      <th>YearsSinceLastPromotion</th>\n",
       "      <th>TrainingTimesLastYear</th>\n",
       "      <th>DistanceFromHome</th>\n",
       "      <th>Id</th>\n",
       "      <th>Age</th>\n",
       "      <th>PercentSalaryHike</th>\n",
       "      <th>TotalWorkingYears</th>\n",
       "      <th>NumCompaniesWorked</th>\n",
       "      <th>EmployeeNumber</th>\n",
       "      <th>MonthlyIncome</th>\n",
       "      <th>YearsInCurrentRole</th>\n",
       "      <th>YearsWithCurrManager</th>\n",
       "    </tr>\n",
       "  </thead>\n",
       "  <tbody>\n",
       "    <tr>\n",
       "      <th>0</th>\n",
       "      <td>11</td>\n",
       "      <td>6</td>\n",
       "      <td>2</td>\n",
       "      <td>2</td>\n",
       "      <td>1</td>\n",
       "      <td>30</td>\n",
       "      <td>14</td>\n",
       "      <td>12</td>\n",
       "      <td>0</td>\n",
       "      <td>571</td>\n",
       "      <td>2564</td>\n",
       "      <td>7</td>\n",
       "      <td>7</td>\n",
       "    </tr>\n",
       "    <tr>\n",
       "      <th>1</th>\n",
       "      <td>3</td>\n",
       "      <td>1</td>\n",
       "      <td>2</td>\n",
       "      <td>12</td>\n",
       "      <td>2</td>\n",
       "      <td>36</td>\n",
       "      <td>12</td>\n",
       "      <td>7</td>\n",
       "      <td>9</td>\n",
       "      <td>1614</td>\n",
       "      <td>4663</td>\n",
       "      <td>2</td>\n",
       "      <td>1</td>\n",
       "    </tr>\n",
       "    <tr>\n",
       "      <th>2</th>\n",
       "      <td>9</td>\n",
       "      <td>7</td>\n",
       "      <td>3</td>\n",
       "      <td>2</td>\n",
       "      <td>3</td>\n",
       "      <td>55</td>\n",
       "      <td>16</td>\n",
       "      <td>12</td>\n",
       "      <td>4</td>\n",
       "      <td>842</td>\n",
       "      <td>5160</td>\n",
       "      <td>7</td>\n",
       "      <td>3</td>\n",
       "    </tr>\n",
       "    <tr>\n",
       "      <th>3</th>\n",
       "      <td>7</td>\n",
       "      <td>1</td>\n",
       "      <td>2</td>\n",
       "      <td>24</td>\n",
       "      <td>4</td>\n",
       "      <td>39</td>\n",
       "      <td>13</td>\n",
       "      <td>18</td>\n",
       "      <td>7</td>\n",
       "      <td>2014</td>\n",
       "      <td>4108</td>\n",
       "      <td>7</td>\n",
       "      <td>7</td>\n",
       "    </tr>\n",
       "    <tr>\n",
       "      <th>4</th>\n",
       "      <td>10</td>\n",
       "      <td>7</td>\n",
       "      <td>2</td>\n",
       "      <td>3</td>\n",
       "      <td>5</td>\n",
       "      <td>37</td>\n",
       "      <td>15</td>\n",
       "      <td>10</td>\n",
       "      <td>1</td>\n",
       "      <td>689</td>\n",
       "      <td>9434</td>\n",
       "      <td>7</td>\n",
       "      <td>8</td>\n",
       "    </tr>\n",
       "  </tbody>\n",
       "</table>\n",
       "</div>"
      ],
      "text/plain": [
       "   YearsAtCompany  YearsSinceLastPromotion  TrainingTimesLastYear  \\\n",
       "0              11                        6                      2   \n",
       "1               3                        1                      2   \n",
       "2               9                        7                      3   \n",
       "3               7                        1                      2   \n",
       "4              10                        7                      2   \n",
       "\n",
       "   DistanceFromHome  Id  Age  PercentSalaryHike  TotalWorkingYears  \\\n",
       "0                 2   1   30                 14                 12   \n",
       "1                12   2   36                 12                  7   \n",
       "2                 2   3   55                 16                 12   \n",
       "3                24   4   39                 13                 18   \n",
       "4                 3   5   37                 15                 10   \n",
       "\n",
       "   NumCompaniesWorked  EmployeeNumber  MonthlyIncome  YearsInCurrentRole  \\\n",
       "0                   0             571           2564                   7   \n",
       "1                   9            1614           4663                   2   \n",
       "2                   4             842           5160                   7   \n",
       "3                   7            2014           4108                   7   \n",
       "4                   1             689           9434                   7   \n",
       "\n",
       "   YearsWithCurrManager  \n",
       "0                     7  \n",
       "1                     1  \n",
       "2                     3  \n",
       "3                     7  \n",
       "4                     8  "
      ]
     },
     "execution_count": 16,
     "metadata": {},
     "output_type": "execute_result"
    }
   ],
   "source": [
    "num_col_list = list(set(train_df.columns)-set(catg_col_list)-{'Attrition'})\n",
    "num_col_df = train_df[num_col_list]\n",
    "num_col_df.head()"
   ]
  },
  {
   "cell_type": "markdown",
   "metadata": {
    "papermill": {
     "duration": 0.050936,
     "end_time": "2020-11-25T11:41:37.132880",
     "exception": false,
     "start_time": "2020-11-25T11:41:37.081944",
     "status": "completed"
    },
    "tags": []
   },
   "source": [
    "Next the dataset is Standardized using MinMaxScalar "
   ]
  },
  {
   "cell_type": "code",
   "execution_count": 17,
   "metadata": {
    "execution": {
     "iopub.execute_input": "2020-11-25T11:41:37.235981Z",
     "iopub.status.busy": "2020-11-25T11:41:37.235230Z",
     "iopub.status.idle": "2020-11-25T11:41:37.396037Z",
     "shell.execute_reply": "2020-11-25T11:41:37.395299Z"
    },
    "papermill": {
     "duration": 0.215697,
     "end_time": "2020-11-25T11:41:37.396167",
     "exception": false,
     "start_time": "2020-11-25T11:41:37.180470",
     "status": "completed"
    },
    "scrolled": true,
    "tags": []
   },
   "outputs": [
    {
     "data": {
      "text/html": [
       "<div>\n",
       "<style scoped>\n",
       "    .dataframe tbody tr th:only-of-type {\n",
       "        vertical-align: middle;\n",
       "    }\n",
       "\n",
       "    .dataframe tbody tr th {\n",
       "        vertical-align: top;\n",
       "    }\n",
       "\n",
       "    .dataframe thead th {\n",
       "        text-align: right;\n",
       "    }\n",
       "</style>\n",
       "<table border=\"1\" class=\"dataframe\">\n",
       "  <thead>\n",
       "    <tr style=\"text-align: right;\">\n",
       "      <th></th>\n",
       "      <th>YearsAtCompany</th>\n",
       "      <th>YearsSinceLastPromotion</th>\n",
       "      <th>TrainingTimesLastYear</th>\n",
       "      <th>DistanceFromHome</th>\n",
       "      <th>Id</th>\n",
       "      <th>Age</th>\n",
       "      <th>PercentSalaryHike</th>\n",
       "      <th>TotalWorkingYears</th>\n",
       "      <th>NumCompaniesWorked</th>\n",
       "      <th>EmployeeNumber</th>\n",
       "      <th>MonthlyIncome</th>\n",
       "      <th>YearsInCurrentRole</th>\n",
       "      <th>YearsWithCurrManager</th>\n",
       "    </tr>\n",
       "  </thead>\n",
       "  <tbody>\n",
       "    <tr>\n",
       "      <th>0</th>\n",
       "      <td>0.297297</td>\n",
       "      <td>0.400000</td>\n",
       "      <td>0.333333</td>\n",
       "      <td>0.035714</td>\n",
       "      <td>0.000000</td>\n",
       "      <td>0.285714</td>\n",
       "      <td>0.214286</td>\n",
       "      <td>0.315789</td>\n",
       "      <td>0.000000</td>\n",
       "      <td>0.275762</td>\n",
       "      <td>0.081885</td>\n",
       "      <td>0.388889</td>\n",
       "      <td>0.411765</td>\n",
       "    </tr>\n",
       "    <tr>\n",
       "      <th>1</th>\n",
       "      <td>0.081081</td>\n",
       "      <td>0.066667</td>\n",
       "      <td>0.333333</td>\n",
       "      <td>0.392857</td>\n",
       "      <td>0.000615</td>\n",
       "      <td>0.428571</td>\n",
       "      <td>0.071429</td>\n",
       "      <td>0.184211</td>\n",
       "      <td>1.000000</td>\n",
       "      <td>0.780358</td>\n",
       "      <td>0.192417</td>\n",
       "      <td>0.111111</td>\n",
       "      <td>0.058824</td>\n",
       "    </tr>\n",
       "    <tr>\n",
       "      <th>2</th>\n",
       "      <td>0.243243</td>\n",
       "      <td>0.466667</td>\n",
       "      <td>0.500000</td>\n",
       "      <td>0.035714</td>\n",
       "      <td>0.001229</td>\n",
       "      <td>0.880952</td>\n",
       "      <td>0.357143</td>\n",
       "      <td>0.315789</td>\n",
       "      <td>0.444444</td>\n",
       "      <td>0.406870</td>\n",
       "      <td>0.218589</td>\n",
       "      <td>0.388889</td>\n",
       "      <td>0.176471</td>\n",
       "    </tr>\n",
       "    <tr>\n",
       "      <th>3</th>\n",
       "      <td>0.189189</td>\n",
       "      <td>0.066667</td>\n",
       "      <td>0.333333</td>\n",
       "      <td>0.821429</td>\n",
       "      <td>0.001844</td>\n",
       "      <td>0.500000</td>\n",
       "      <td>0.142857</td>\n",
       "      <td>0.473684</td>\n",
       "      <td>0.777778</td>\n",
       "      <td>0.973875</td>\n",
       "      <td>0.163191</td>\n",
       "      <td>0.388889</td>\n",
       "      <td>0.411765</td>\n",
       "    </tr>\n",
       "    <tr>\n",
       "      <th>4</th>\n",
       "      <td>0.270270</td>\n",
       "      <td>0.466667</td>\n",
       "      <td>0.333333</td>\n",
       "      <td>0.071429</td>\n",
       "      <td>0.002459</td>\n",
       "      <td>0.452381</td>\n",
       "      <td>0.285714</td>\n",
       "      <td>0.263158</td>\n",
       "      <td>0.111111</td>\n",
       "      <td>0.332850</td>\n",
       "      <td>0.443655</td>\n",
       "      <td>0.388889</td>\n",
       "      <td>0.470588</td>\n",
       "    </tr>\n",
       "  </tbody>\n",
       "</table>\n",
       "</div>"
      ],
      "text/plain": [
       "   YearsAtCompany  YearsSinceLastPromotion  TrainingTimesLastYear  \\\n",
       "0        0.297297                 0.400000               0.333333   \n",
       "1        0.081081                 0.066667               0.333333   \n",
       "2        0.243243                 0.466667               0.500000   \n",
       "3        0.189189                 0.066667               0.333333   \n",
       "4        0.270270                 0.466667               0.333333   \n",
       "\n",
       "   DistanceFromHome        Id       Age  PercentSalaryHike  TotalWorkingYears  \\\n",
       "0          0.035714  0.000000  0.285714           0.214286           0.315789   \n",
       "1          0.392857  0.000615  0.428571           0.071429           0.184211   \n",
       "2          0.035714  0.001229  0.880952           0.357143           0.315789   \n",
       "3          0.821429  0.001844  0.500000           0.142857           0.473684   \n",
       "4          0.071429  0.002459  0.452381           0.285714           0.263158   \n",
       "\n",
       "   NumCompaniesWorked  EmployeeNumber  MonthlyIncome  YearsInCurrentRole  \\\n",
       "0            0.000000        0.275762       0.081885            0.388889   \n",
       "1            1.000000        0.780358       0.192417            0.111111   \n",
       "2            0.444444        0.406870       0.218589            0.388889   \n",
       "3            0.777778        0.973875       0.163191            0.388889   \n",
       "4            0.111111        0.332850       0.443655            0.388889   \n",
       "\n",
       "   YearsWithCurrManager  \n",
       "0              0.411765  \n",
       "1              0.058824  \n",
       "2              0.176471  \n",
       "3              0.411765  \n",
       "4              0.470588  "
      ]
     },
     "execution_count": 17,
     "metadata": {},
     "output_type": "execute_result"
    }
   ],
   "source": [
    "from sklearn.preprocessing import MinMaxScaler\n",
    "scalar = MinMaxScaler(feature_range=(0, 1))\n",
    "df_min_max_num = pd.DataFrame(scalar.fit_transform(num_col_df), columns = num_col_df.columns)\n",
    "df_min_max_num.head()"
   ]
  },
  {
   "cell_type": "markdown",
   "metadata": {
    "papermill": {
     "duration": 0.048013,
     "end_time": "2020-11-25T11:41:37.493884",
     "exception": false,
     "start_time": "2020-11-25T11:41:37.445871",
     "status": "completed"
    },
    "tags": []
   },
   "source": [
    "<hr>"
   ]
  },
  {
   "cell_type": "markdown",
   "metadata": {
    "papermill": {
     "duration": 0.048551,
     "end_time": "2020-11-25T11:41:37.590961",
     "exception": false,
     "start_time": "2020-11-25T11:41:37.542410",
     "status": "completed"
    },
    "tags": []
   },
   "source": [
    "## Final dataset after One Hot Encoding and Standardization"
   ]
  },
  {
   "cell_type": "code",
   "execution_count": 18,
   "metadata": {
    "execution": {
     "iopub.execute_input": "2020-11-25T11:41:37.694583Z",
     "iopub.status.busy": "2020-11-25T11:41:37.693522Z",
     "iopub.status.idle": "2020-11-25T11:41:37.721760Z",
     "shell.execute_reply": "2020-11-25T11:41:37.722375Z"
    },
    "papermill": {
     "duration": 0.082957,
     "end_time": "2020-11-25T11:41:37.722523",
     "exception": false,
     "start_time": "2020-11-25T11:41:37.639566",
     "status": "completed"
    },
    "tags": []
   },
   "outputs": [
    {
     "data": {
      "text/html": [
       "<div>\n",
       "<style scoped>\n",
       "    .dataframe tbody tr th:only-of-type {\n",
       "        vertical-align: middle;\n",
       "    }\n",
       "\n",
       "    .dataframe tbody tr th {\n",
       "        vertical-align: top;\n",
       "    }\n",
       "\n",
       "    .dataframe thead th {\n",
       "        text-align: right;\n",
       "    }\n",
       "</style>\n",
       "<table border=\"1\" class=\"dataframe\">\n",
       "  <thead>\n",
       "    <tr style=\"text-align: right;\">\n",
       "      <th></th>\n",
       "      <th>Education</th>\n",
       "      <th>EnvironmentSatisfaction</th>\n",
       "      <th>JobInvolvement</th>\n",
       "      <th>JobSatisfaction</th>\n",
       "      <th>PerformanceRating</th>\n",
       "      <th>StockOptionLevel</th>\n",
       "      <th>CommunicationSkill</th>\n",
       "      <th>Behaviour</th>\n",
       "      <th>BusinessTravel_Travel_Frequently</th>\n",
       "      <th>BusinessTravel_Travel_Rarely</th>\n",
       "      <th>Department_Research &amp; Development</th>\n",
       "      <th>Department_Sales</th>\n",
       "      <th>EducationField_Life Sciences</th>\n",
       "      <th>EducationField_Marketing</th>\n",
       "      <th>EducationField_Medical</th>\n",
       "      <th>EducationField_Other</th>\n",
       "      <th>EducationField_Technical Degree</th>\n",
       "      <th>Gender_Male</th>\n",
       "      <th>JobRole_Human Resources</th>\n",
       "      <th>JobRole_Laboratory Technician</th>\n",
       "      <th>JobRole_Manager</th>\n",
       "      <th>JobRole_Manufacturing Director</th>\n",
       "      <th>JobRole_Research Director</th>\n",
       "      <th>JobRole_Research Scientist</th>\n",
       "      <th>JobRole_Sales Executive</th>\n",
       "      <th>JobRole_Sales Representative</th>\n",
       "      <th>MaritalStatus_Married</th>\n",
       "      <th>MaritalStatus_Single</th>\n",
       "      <th>OverTime_Yes</th>\n",
       "      <th>YearsAtCompany</th>\n",
       "      <th>YearsSinceLastPromotion</th>\n",
       "      <th>TrainingTimesLastYear</th>\n",
       "      <th>DistanceFromHome</th>\n",
       "      <th>Id</th>\n",
       "      <th>Age</th>\n",
       "      <th>PercentSalaryHike</th>\n",
       "      <th>TotalWorkingYears</th>\n",
       "      <th>NumCompaniesWorked</th>\n",
       "      <th>EmployeeNumber</th>\n",
       "      <th>MonthlyIncome</th>\n",
       "      <th>YearsInCurrentRole</th>\n",
       "      <th>YearsWithCurrManager</th>\n",
       "    </tr>\n",
       "  </thead>\n",
       "  <tbody>\n",
       "    <tr>\n",
       "      <th>0</th>\n",
       "      <td>3</td>\n",
       "      <td>3</td>\n",
       "      <td>3</td>\n",
       "      <td>4</td>\n",
       "      <td>3</td>\n",
       "      <td>0</td>\n",
       "      <td>4</td>\n",
       "      <td>1</td>\n",
       "      <td>0</td>\n",
       "      <td>0</td>\n",
       "      <td>1</td>\n",
       "      <td>0</td>\n",
       "      <td>0</td>\n",
       "      <td>0</td>\n",
       "      <td>1</td>\n",
       "      <td>0</td>\n",
       "      <td>0</td>\n",
       "      <td>0</td>\n",
       "      <td>0</td>\n",
       "      <td>1</td>\n",
       "      <td>0</td>\n",
       "      <td>0</td>\n",
       "      <td>0</td>\n",
       "      <td>0</td>\n",
       "      <td>0</td>\n",
       "      <td>0</td>\n",
       "      <td>0</td>\n",
       "      <td>1</td>\n",
       "      <td>0</td>\n",
       "      <td>0.297297</td>\n",
       "      <td>0.400000</td>\n",
       "      <td>0.333333</td>\n",
       "      <td>0.035714</td>\n",
       "      <td>0.000000</td>\n",
       "      <td>0.285714</td>\n",
       "      <td>0.214286</td>\n",
       "      <td>0.315789</td>\n",
       "      <td>0.000000</td>\n",
       "      <td>0.275762</td>\n",
       "      <td>0.081885</td>\n",
       "      <td>0.388889</td>\n",
       "      <td>0.411765</td>\n",
       "    </tr>\n",
       "    <tr>\n",
       "      <th>1</th>\n",
       "      <td>4</td>\n",
       "      <td>3</td>\n",
       "      <td>3</td>\n",
       "      <td>3</td>\n",
       "      <td>3</td>\n",
       "      <td>2</td>\n",
       "      <td>2</td>\n",
       "      <td>1</td>\n",
       "      <td>0</td>\n",
       "      <td>1</td>\n",
       "      <td>1</td>\n",
       "      <td>0</td>\n",
       "      <td>1</td>\n",
       "      <td>0</td>\n",
       "      <td>0</td>\n",
       "      <td>0</td>\n",
       "      <td>0</td>\n",
       "      <td>0</td>\n",
       "      <td>0</td>\n",
       "      <td>0</td>\n",
       "      <td>0</td>\n",
       "      <td>1</td>\n",
       "      <td>0</td>\n",
       "      <td>0</td>\n",
       "      <td>0</td>\n",
       "      <td>0</td>\n",
       "      <td>1</td>\n",
       "      <td>0</td>\n",
       "      <td>1</td>\n",
       "      <td>0.081081</td>\n",
       "      <td>0.066667</td>\n",
       "      <td>0.333333</td>\n",
       "      <td>0.392857</td>\n",
       "      <td>0.000615</td>\n",
       "      <td>0.428571</td>\n",
       "      <td>0.071429</td>\n",
       "      <td>0.184211</td>\n",
       "      <td>1.000000</td>\n",
       "      <td>0.780358</td>\n",
       "      <td>0.192417</td>\n",
       "      <td>0.111111</td>\n",
       "      <td>0.058824</td>\n",
       "    </tr>\n",
       "    <tr>\n",
       "      <th>2</th>\n",
       "      <td>1</td>\n",
       "      <td>3</td>\n",
       "      <td>3</td>\n",
       "      <td>4</td>\n",
       "      <td>3</td>\n",
       "      <td>0</td>\n",
       "      <td>5</td>\n",
       "      <td>1</td>\n",
       "      <td>0</td>\n",
       "      <td>1</td>\n",
       "      <td>0</td>\n",
       "      <td>1</td>\n",
       "      <td>0</td>\n",
       "      <td>0</td>\n",
       "      <td>1</td>\n",
       "      <td>0</td>\n",
       "      <td>0</td>\n",
       "      <td>1</td>\n",
       "      <td>0</td>\n",
       "      <td>0</td>\n",
       "      <td>0</td>\n",
       "      <td>0</td>\n",
       "      <td>0</td>\n",
       "      <td>0</td>\n",
       "      <td>1</td>\n",
       "      <td>0</td>\n",
       "      <td>0</td>\n",
       "      <td>1</td>\n",
       "      <td>0</td>\n",
       "      <td>0.243243</td>\n",
       "      <td>0.466667</td>\n",
       "      <td>0.500000</td>\n",
       "      <td>0.035714</td>\n",
       "      <td>0.001229</td>\n",
       "      <td>0.880952</td>\n",
       "      <td>0.357143</td>\n",
       "      <td>0.315789</td>\n",
       "      <td>0.444444</td>\n",
       "      <td>0.406870</td>\n",
       "      <td>0.218589</td>\n",
       "      <td>0.388889</td>\n",
       "      <td>0.176471</td>\n",
       "    </tr>\n",
       "    <tr>\n",
       "      <th>3</th>\n",
       "      <td>1</td>\n",
       "      <td>1</td>\n",
       "      <td>3</td>\n",
       "      <td>4</td>\n",
       "      <td>3</td>\n",
       "      <td>0</td>\n",
       "      <td>4</td>\n",
       "      <td>1</td>\n",
       "      <td>0</td>\n",
       "      <td>1</td>\n",
       "      <td>1</td>\n",
       "      <td>0</td>\n",
       "      <td>1</td>\n",
       "      <td>0</td>\n",
       "      <td>0</td>\n",
       "      <td>0</td>\n",
       "      <td>0</td>\n",
       "      <td>1</td>\n",
       "      <td>0</td>\n",
       "      <td>0</td>\n",
       "      <td>0</td>\n",
       "      <td>0</td>\n",
       "      <td>0</td>\n",
       "      <td>1</td>\n",
       "      <td>0</td>\n",
       "      <td>0</td>\n",
       "      <td>0</td>\n",
       "      <td>1</td>\n",
       "      <td>0</td>\n",
       "      <td>0.189189</td>\n",
       "      <td>0.066667</td>\n",
       "      <td>0.333333</td>\n",
       "      <td>0.821429</td>\n",
       "      <td>0.001844</td>\n",
       "      <td>0.500000</td>\n",
       "      <td>0.142857</td>\n",
       "      <td>0.473684</td>\n",
       "      <td>0.777778</td>\n",
       "      <td>0.973875</td>\n",
       "      <td>0.163191</td>\n",
       "      <td>0.388889</td>\n",
       "      <td>0.411765</td>\n",
       "    </tr>\n",
       "    <tr>\n",
       "      <th>4</th>\n",
       "      <td>3</td>\n",
       "      <td>3</td>\n",
       "      <td>3</td>\n",
       "      <td>3</td>\n",
       "      <td>3</td>\n",
       "      <td>1</td>\n",
       "      <td>1</td>\n",
       "      <td>1</td>\n",
       "      <td>0</td>\n",
       "      <td>1</td>\n",
       "      <td>1</td>\n",
       "      <td>0</td>\n",
       "      <td>0</td>\n",
       "      <td>0</td>\n",
       "      <td>0</td>\n",
       "      <td>1</td>\n",
       "      <td>0</td>\n",
       "      <td>1</td>\n",
       "      <td>0</td>\n",
       "      <td>0</td>\n",
       "      <td>0</td>\n",
       "      <td>1</td>\n",
       "      <td>0</td>\n",
       "      <td>0</td>\n",
       "      <td>0</td>\n",
       "      <td>0</td>\n",
       "      <td>1</td>\n",
       "      <td>0</td>\n",
       "      <td>0</td>\n",
       "      <td>0.270270</td>\n",
       "      <td>0.466667</td>\n",
       "      <td>0.333333</td>\n",
       "      <td>0.071429</td>\n",
       "      <td>0.002459</td>\n",
       "      <td>0.452381</td>\n",
       "      <td>0.285714</td>\n",
       "      <td>0.263158</td>\n",
       "      <td>0.111111</td>\n",
       "      <td>0.332850</td>\n",
       "      <td>0.443655</td>\n",
       "      <td>0.388889</td>\n",
       "      <td>0.470588</td>\n",
       "    </tr>\n",
       "  </tbody>\n",
       "</table>\n",
       "</div>"
      ],
      "text/plain": [
       "   Education  EnvironmentSatisfaction  JobInvolvement  JobSatisfaction  \\\n",
       "0          3                        3               3                4   \n",
       "1          4                        3               3                3   \n",
       "2          1                        3               3                4   \n",
       "3          1                        1               3                4   \n",
       "4          3                        3               3                3   \n",
       "\n",
       "   PerformanceRating  StockOptionLevel  CommunicationSkill  Behaviour  \\\n",
       "0                  3                 0                   4          1   \n",
       "1                  3                 2                   2          1   \n",
       "2                  3                 0                   5          1   \n",
       "3                  3                 0                   4          1   \n",
       "4                  3                 1                   1          1   \n",
       "\n",
       "   BusinessTravel_Travel_Frequently  BusinessTravel_Travel_Rarely  \\\n",
       "0                                 0                             0   \n",
       "1                                 0                             1   \n",
       "2                                 0                             1   \n",
       "3                                 0                             1   \n",
       "4                                 0                             1   \n",
       "\n",
       "   Department_Research & Development  Department_Sales  \\\n",
       "0                                  1                 0   \n",
       "1                                  1                 0   \n",
       "2                                  0                 1   \n",
       "3                                  1                 0   \n",
       "4                                  1                 0   \n",
       "\n",
       "   EducationField_Life Sciences  EducationField_Marketing  \\\n",
       "0                             0                         0   \n",
       "1                             1                         0   \n",
       "2                             0                         0   \n",
       "3                             1                         0   \n",
       "4                             0                         0   \n",
       "\n",
       "   EducationField_Medical  EducationField_Other  \\\n",
       "0                       1                     0   \n",
       "1                       0                     0   \n",
       "2                       1                     0   \n",
       "3                       0                     0   \n",
       "4                       0                     1   \n",
       "\n",
       "   EducationField_Technical Degree  Gender_Male  JobRole_Human Resources  \\\n",
       "0                                0            0                        0   \n",
       "1                                0            0                        0   \n",
       "2                                0            1                        0   \n",
       "3                                0            1                        0   \n",
       "4                                0            1                        0   \n",
       "\n",
       "   JobRole_Laboratory Technician  JobRole_Manager  \\\n",
       "0                              1                0   \n",
       "1                              0                0   \n",
       "2                              0                0   \n",
       "3                              0                0   \n",
       "4                              0                0   \n",
       "\n",
       "   JobRole_Manufacturing Director  JobRole_Research Director  \\\n",
       "0                               0                          0   \n",
       "1                               1                          0   \n",
       "2                               0                          0   \n",
       "3                               0                          0   \n",
       "4                               1                          0   \n",
       "\n",
       "   JobRole_Research Scientist  JobRole_Sales Executive  \\\n",
       "0                           0                        0   \n",
       "1                           0                        0   \n",
       "2                           0                        1   \n",
       "3                           1                        0   \n",
       "4                           0                        0   \n",
       "\n",
       "   JobRole_Sales Representative  MaritalStatus_Married  MaritalStatus_Single  \\\n",
       "0                             0                      0                     1   \n",
       "1                             0                      1                     0   \n",
       "2                             0                      0                     1   \n",
       "3                             0                      0                     1   \n",
       "4                             0                      1                     0   \n",
       "\n",
       "   OverTime_Yes  YearsAtCompany  YearsSinceLastPromotion  \\\n",
       "0             0        0.297297                 0.400000   \n",
       "1             1        0.081081                 0.066667   \n",
       "2             0        0.243243                 0.466667   \n",
       "3             0        0.189189                 0.066667   \n",
       "4             0        0.270270                 0.466667   \n",
       "\n",
       "   TrainingTimesLastYear  DistanceFromHome        Id       Age  \\\n",
       "0               0.333333          0.035714  0.000000  0.285714   \n",
       "1               0.333333          0.392857  0.000615  0.428571   \n",
       "2               0.500000          0.035714  0.001229  0.880952   \n",
       "3               0.333333          0.821429  0.001844  0.500000   \n",
       "4               0.333333          0.071429  0.002459  0.452381   \n",
       "\n",
       "   PercentSalaryHike  TotalWorkingYears  NumCompaniesWorked  EmployeeNumber  \\\n",
       "0           0.214286           0.315789            0.000000        0.275762   \n",
       "1           0.071429           0.184211            1.000000        0.780358   \n",
       "2           0.357143           0.315789            0.444444        0.406870   \n",
       "3           0.142857           0.473684            0.777778        0.973875   \n",
       "4           0.285714           0.263158            0.111111        0.332850   \n",
       "\n",
       "   MonthlyIncome  YearsInCurrentRole  YearsWithCurrManager  \n",
       "0       0.081885            0.388889              0.411765  \n",
       "1       0.192417            0.111111              0.058824  \n",
       "2       0.218589            0.388889              0.176471  \n",
       "3       0.163191            0.388889              0.411765  \n",
       "4       0.443655            0.388889              0.470588  "
      ]
     },
     "execution_count": 18,
     "metadata": {},
     "output_type": "execute_result"
    }
   ],
   "source": [
    "standar_df = pd.concat([df_hot_enc_catg, df_min_max_num], axis=1)\n",
    "standar_df.head()"
   ]
  },
  {
   "cell_type": "code",
   "execution_count": 19,
   "metadata": {
    "execution": {
     "iopub.execute_input": "2020-11-25T11:41:37.826809Z",
     "iopub.status.busy": "2020-11-25T11:41:37.826026Z",
     "iopub.status.idle": "2020-11-25T11:41:37.832223Z",
     "shell.execute_reply": "2020-11-25T11:41:37.832977Z"
    },
    "papermill": {
     "duration": 0.06143,
     "end_time": "2020-11-25T11:41:37.833189",
     "exception": false,
     "start_time": "2020-11-25T11:41:37.771759",
     "status": "completed"
    },
    "tags": []
   },
   "outputs": [
    {
     "data": {
      "text/plain": [
       "(1628, 42)"
      ]
     },
     "execution_count": 19,
     "metadata": {},
     "output_type": "execute_result"
    }
   ],
   "source": [
    "standar_df.shape"
   ]
  },
  {
   "cell_type": "markdown",
   "metadata": {
    "papermill": {
     "duration": 0.050019,
     "end_time": "2020-11-25T11:41:37.933541",
     "exception": false,
     "start_time": "2020-11-25T11:41:37.883522",
     "status": "completed"
    },
    "tags": []
   },
   "source": [
    "<hr>"
   ]
  },
  {
   "cell_type": "markdown",
   "metadata": {
    "papermill": {
     "duration": 0.049227,
     "end_time": "2020-11-25T11:41:38.032655",
     "exception": false,
     "start_time": "2020-11-25T11:41:37.983428",
     "status": "completed"
    },
    "tags": []
   },
   "source": [
    "# Feature Selection"
   ]
  },
  {
   "cell_type": "markdown",
   "metadata": {
    "papermill": {
     "duration": 0.050747,
     "end_time": "2020-11-25T11:41:38.135230",
     "exception": false,
     "start_time": "2020-11-25T11:41:38.084483",
     "status": "completed"
    },
    "tags": []
   },
   "source": [
    "### Using Extra Tree Classifier"
   ]
  },
  {
   "cell_type": "code",
   "execution_count": 20,
   "metadata": {
    "execution": {
     "iopub.execute_input": "2020-11-25T11:41:38.243530Z",
     "iopub.status.busy": "2020-11-25T11:41:38.242831Z",
     "iopub.status.idle": "2020-11-25T11:41:38.779525Z",
     "shell.execute_reply": "2020-11-25T11:41:38.780011Z"
    },
    "papermill": {
     "duration": 0.593301,
     "end_time": "2020-11-25T11:41:38.780174",
     "exception": false,
     "start_time": "2020-11-25T11:41:38.186873",
     "status": "completed"
    },
    "tags": []
   },
   "outputs": [
    {
     "data": {
      "text/plain": [
       "array([0.01907988, 0.02549723, 0.02259759, 0.02673178, 0.0104091 ,\n",
       "       0.02725146, 0.02373259, 0.        , 0.01918761, 0.01102362,\n",
       "       0.01166137, 0.00997145, 0.01420226, 0.00759924, 0.01321453,\n",
       "       0.00431407, 0.01081796, 0.01779386, 0.0046598 , 0.01237262,\n",
       "       0.00516357, 0.00942859, 0.00563552, 0.00919587, 0.01007734,\n",
       "       0.01763183, 0.0141426 , 0.02443138, 0.06688827, 0.02662133,\n",
       "       0.02109062, 0.0207682 , 0.02535922, 0.24728134, 0.02682043,\n",
       "       0.02054587, 0.03182238, 0.02130323, 0.02193777, 0.02866694,\n",
       "       0.02708759, 0.0259821 ])"
      ]
     },
     "execution_count": 20,
     "metadata": {},
     "output_type": "execute_result"
    }
   ],
   "source": [
    "from sklearn.ensemble import ExtraTreesClassifier\n",
    "\n",
    "features = ExtraTreesClassifier()\n",
    "features.fit(standar_df, train_df.Attrition)\n",
    "\n",
    "score = features.feature_importances_\n",
    "score"
   ]
  },
  {
   "cell_type": "code",
   "execution_count": 21,
   "metadata": {
    "execution": {
     "iopub.execute_input": "2020-11-25T11:41:38.896301Z",
     "iopub.status.busy": "2020-11-25T11:41:38.895575Z",
     "iopub.status.idle": "2020-11-25T11:41:39.270426Z",
     "shell.execute_reply": "2020-11-25T11:41:39.269901Z"
    },
    "papermill": {
     "duration": 0.440159,
     "end_time": "2020-11-25T11:41:39.270546",
     "exception": false,
     "start_time": "2020-11-25T11:41:38.830387",
     "status": "completed"
    },
    "tags": []
   },
   "outputs": [
    {
     "data": {
      "image/png": "[encoded data removed]",
      "text/plain": [
       "<Figure size 720x1440 with 1 Axes>"
      ]
     },
     "metadata": {
      "needs_background": "light"
     },
     "output_type": "display_data"
    }
   ],
   "source": [
    "feature_scores = pd.Series(score, index = standar_df.columns).sort_values(ascending = False)\n",
    "plt.figure(figsize=(10,20))\n",
    "feature_scores.plot(kind='barh')\n",
    "plt.show()"
   ]
  },
  {
   "cell_type": "code",
   "execution_count": 22,
   "metadata": {
    "execution": {
     "iopub.execute_input": "2020-11-25T11:41:39.392239Z",
     "iopub.status.busy": "2020-11-25T11:41:39.391287Z",
     "iopub.status.idle": "2020-11-25T11:41:39.396550Z",
     "shell.execute_reply": "2020-11-25T11:41:39.395846Z"
    },
    "papermill": {
     "duration": 0.069979,
     "end_time": "2020-11-25T11:41:39.396668",
     "exception": false,
     "start_time": "2020-11-25T11:41:39.326689",
     "status": "completed"
    },
    "tags": []
   },
   "outputs": [
    {
     "data": {
      "text/plain": [
       "Id                                   0.247281\n",
       "OverTime_Yes                         0.066888\n",
       "TotalWorkingYears                    0.031822\n",
       "MonthlyIncome                        0.028667\n",
       "StockOptionLevel                     0.027251\n",
       "YearsInCurrentRole                   0.027088\n",
       "Age                                  0.026820\n",
       "JobSatisfaction                      0.026732\n",
       "YearsAtCompany                       0.026621\n",
       "YearsWithCurrManager                 0.025982\n",
       "EnvironmentSatisfaction              0.025497\n",
       "DistanceFromHome                     0.025359\n",
       "MaritalStatus_Single                 0.024431\n",
       "CommunicationSkill                   0.023733\n",
       "JobInvolvement                       0.022598\n",
       "EmployeeNumber                       0.021938\n",
       "NumCompaniesWorked                   0.021303\n",
       "YearsSinceLastPromotion              0.021091\n",
       "TrainingTimesLastYear                0.020768\n",
       "PercentSalaryHike                    0.020546\n",
       "BusinessTravel_Travel_Frequently     0.019188\n",
       "Education                            0.019080\n",
       "Gender_Male                          0.017794\n",
       "JobRole_Sales Representative         0.017632\n",
       "EducationField_Life Sciences         0.014202\n",
       "MaritalStatus_Married                0.014143\n",
       "EducationField_Medical               0.013215\n",
       "JobRole_Laboratory Technician        0.012373\n",
       "Department_Research & Development    0.011661\n",
       "BusinessTravel_Travel_Rarely         0.011024\n",
       "EducationField_Technical Degree      0.010818\n",
       "PerformanceRating                    0.010409\n",
       "JobRole_Sales Executive              0.010077\n",
       "Department_Sales                     0.009971\n",
       "JobRole_Manufacturing Director       0.009429\n",
       "JobRole_Research Scientist           0.009196\n",
       "EducationField_Marketing             0.007599\n",
       "JobRole_Research Director            0.005636\n",
       "JobRole_Manager                      0.005164\n",
       "JobRole_Human Resources              0.004660\n",
       "EducationField_Other                 0.004314\n",
       "Behaviour                            0.000000\n",
       "dtype: float64"
      ]
     },
     "execution_count": 22,
     "metadata": {},
     "output_type": "execute_result"
    }
   ],
   "source": [
    "feature_scores"
   ]
  },
  {
   "cell_type": "markdown",
   "metadata": {
    "papermill": {
     "duration": 0.05505,
     "end_time": "2020-11-25T11:41:39.508349",
     "exception": false,
     "start_time": "2020-11-25T11:41:39.453299",
     "status": "completed"
    },
    "tags": []
   },
   "source": [
    "Select the top 30 features"
   ]
  },
  {
   "cell_type": "code",
   "execution_count": 23,
   "metadata": {
    "execution": {
     "iopub.execute_input": "2020-11-25T11:41:39.629957Z",
     "iopub.status.busy": "2020-11-25T11:41:39.629063Z",
     "iopub.status.idle": "2020-11-25T11:41:39.633555Z",
     "shell.execute_reply": "2020-11-25T11:41:39.633029Z"
    },
    "papermill": {
     "duration": 0.068413,
     "end_time": "2020-11-25T11:41:39.633677",
     "exception": false,
     "start_time": "2020-11-25T11:41:39.565264",
     "status": "completed"
    },
    "tags": []
   },
   "outputs": [
    {
     "data": {
      "text/plain": [
       "['Id',\n",
       " 'OverTime_Yes',\n",
       " 'TotalWorkingYears',\n",
       " 'MonthlyIncome',\n",
       " 'StockOptionLevel',\n",
       " 'YearsInCurrentRole',\n",
       " 'Age',\n",
       " 'JobSatisfaction',\n",
       " 'YearsAtCompany',\n",
       " 'YearsWithCurrManager',\n",
       " 'EnvironmentSatisfaction',\n",
       " 'DistanceFromHome',\n",
       " 'MaritalStatus_Single',\n",
       " 'CommunicationSkill',\n",
       " 'JobInvolvement',\n",
       " 'EmployeeNumber',\n",
       " 'NumCompaniesWorked',\n",
       " 'YearsSinceLastPromotion',\n",
       " 'TrainingTimesLastYear',\n",
       " 'PercentSalaryHike',\n",
       " 'BusinessTravel_Travel_Frequently',\n",
       " 'Education',\n",
       " 'Gender_Male',\n",
       " 'JobRole_Sales Representative',\n",
       " 'EducationField_Life Sciences',\n",
       " 'MaritalStatus_Married',\n",
       " 'EducationField_Medical',\n",
       " 'JobRole_Laboratory Technician',\n",
       " 'Department_Research & Development',\n",
       " 'BusinessTravel_Travel_Rarely']"
      ]
     },
     "execution_count": 23,
     "metadata": {},
     "output_type": "execute_result"
    }
   ],
   "source": [
    "best_features = list(feature_scores.index[0:30])\n",
    "best_features"
   ]
  },
  {
   "cell_type": "markdown",
   "metadata": {
    "papermill": {
     "duration": 0.061101,
     "end_time": "2020-11-25T11:41:39.750511",
     "exception": false,
     "start_time": "2020-11-25T11:41:39.689410",
     "status": "completed"
    },
    "tags": []
   },
   "source": [
    "### Correlation between the target and features"
   ]
  },
  {
   "cell_type": "code",
   "execution_count": 24,
   "metadata": {
    "execution": {
     "iopub.execute_input": "2020-11-25T11:41:39.865858Z",
     "iopub.status.busy": "2020-11-25T11:41:39.864729Z",
     "iopub.status.idle": "2020-11-25T11:41:39.888823Z",
     "shell.execute_reply": "2020-11-25T11:41:39.888117Z"
    },
    "papermill": {
     "duration": 0.085235,
     "end_time": "2020-11-25T11:41:39.888942",
     "exception": false,
     "start_time": "2020-11-25T11:41:39.803707",
     "status": "completed"
    },
    "tags": []
   },
   "outputs": [
    {
     "data": {
      "text/plain": [
       "YearsInCurrentRole                  -0.269408\n",
       "TotalWorkingYears                   -0.262922\n",
       "MonthlyIncome                       -0.240479\n",
       "YearsAtCompany                      -0.230061\n",
       "YearsWithCurrManager                -0.222752\n",
       "Age                                 -0.200596\n",
       "StockOptionLevel                    -0.175496\n",
       "JobInvolvement                      -0.159710\n",
       "MaritalStatus_Married               -0.157919\n",
       "JobSatisfaction                     -0.148012\n",
       "Department_Research & Development   -0.143262\n",
       "EnvironmentSatisfaction             -0.111746\n",
       "TrainingTimesLastYear               -0.105663\n",
       "BusinessTravel_Travel_Rarely        -0.099553\n",
       "EducationField_Life Sciences        -0.064247\n",
       "EmployeeNumber                      -0.051512\n",
       "YearsSinceLastPromotion             -0.050379\n",
       "EducationField_Medical              -0.042741\n",
       "Education                           -0.041390\n",
       "PercentSalaryHike                   -0.012668\n",
       "Gender_Male                          0.024573\n",
       "NumCompaniesWorked                   0.034763\n",
       "JobRole_Laboratory Technician        0.095561\n",
       "CommunicationSkill                   0.103379\n",
       "DistanceFromHome                     0.109224\n",
       "BusinessTravel_Travel_Frequently     0.172831\n",
       "JobRole_Sales Representative         0.208208\n",
       "MaritalStatus_Single                 0.230235\n",
       "OverTime_Yes                         0.321194\n",
       "Id                                   0.694838\n",
       "dtype: float64"
      ]
     },
     "execution_count": 24,
     "metadata": {},
     "output_type": "execute_result"
    }
   ],
   "source": [
    "standar_df[best_features].apply(lambda x: x.corr(train_df.Attrition)).sort_values()"
   ]
  },
  {
   "cell_type": "markdown",
   "metadata": {
    "papermill": {
     "duration": 0.056144,
     "end_time": "2020-11-25T11:41:39.999718",
     "exception": false,
     "start_time": "2020-11-25T11:41:39.943574",
     "status": "completed"
    },
    "tags": []
   },
   "source": [
    "I left the features as selected above since the correlation between the features and target variable is above 0.01. \n",
    "It's surprising that for Id the correlation is >0.69. Still, it should be dropped."
   ]
  },
  {
   "cell_type": "code",
   "execution_count": 25,
   "metadata": {
    "execution": {
     "iopub.execute_input": "2020-11-25T11:41:40.139567Z",
     "iopub.status.busy": "2020-11-25T11:41:40.118522Z",
     "iopub.status.idle": "2020-11-25T11:41:40.144442Z",
     "shell.execute_reply": "2020-11-25T11:41:40.144961Z"
    },
    "papermill": {
     "duration": 0.089391,
     "end_time": "2020-11-25T11:41:40.145145",
     "exception": false,
     "start_time": "2020-11-25T11:41:40.055754",
     "status": "completed"
    },
    "tags": []
   },
   "outputs": [
    {
     "data": {
      "text/html": [
       "<div>\n",
       "<style scoped>\n",
       "    .dataframe tbody tr th:only-of-type {\n",
       "        vertical-align: middle;\n",
       "    }\n",
       "\n",
       "    .dataframe tbody tr th {\n",
       "        vertical-align: top;\n",
       "    }\n",
       "\n",
       "    .dataframe thead th {\n",
       "        text-align: right;\n",
       "    }\n",
       "</style>\n",
       "<table border=\"1\" class=\"dataframe\">\n",
       "  <thead>\n",
       "    <tr style=\"text-align: right;\">\n",
       "      <th></th>\n",
       "      <th>OverTime_Yes</th>\n",
       "      <th>TotalWorkingYears</th>\n",
       "      <th>MonthlyIncome</th>\n",
       "      <th>StockOptionLevel</th>\n",
       "      <th>YearsInCurrentRole</th>\n",
       "      <th>Age</th>\n",
       "      <th>JobSatisfaction</th>\n",
       "      <th>YearsAtCompany</th>\n",
       "      <th>YearsWithCurrManager</th>\n",
       "      <th>EnvironmentSatisfaction</th>\n",
       "      <th>DistanceFromHome</th>\n",
       "      <th>MaritalStatus_Single</th>\n",
       "      <th>CommunicationSkill</th>\n",
       "      <th>JobInvolvement</th>\n",
       "      <th>EmployeeNumber</th>\n",
       "      <th>NumCompaniesWorked</th>\n",
       "      <th>YearsSinceLastPromotion</th>\n",
       "      <th>TrainingTimesLastYear</th>\n",
       "      <th>PercentSalaryHike</th>\n",
       "      <th>BusinessTravel_Travel_Frequently</th>\n",
       "      <th>Education</th>\n",
       "      <th>Gender_Male</th>\n",
       "      <th>JobRole_Sales Representative</th>\n",
       "      <th>EducationField_Life Sciences</th>\n",
       "      <th>MaritalStatus_Married</th>\n",
       "      <th>EducationField_Medical</th>\n",
       "      <th>JobRole_Laboratory Technician</th>\n",
       "      <th>Department_Research &amp; Development</th>\n",
       "      <th>BusinessTravel_Travel_Rarely</th>\n",
       "    </tr>\n",
       "  </thead>\n",
       "  <tbody>\n",
       "    <tr>\n",
       "      <th>0</th>\n",
       "      <td>0</td>\n",
       "      <td>0.315789</td>\n",
       "      <td>0.081885</td>\n",
       "      <td>0</td>\n",
       "      <td>0.388889</td>\n",
       "      <td>0.285714</td>\n",
       "      <td>4</td>\n",
       "      <td>0.297297</td>\n",
       "      <td>0.411765</td>\n",
       "      <td>3</td>\n",
       "      <td>0.035714</td>\n",
       "      <td>1</td>\n",
       "      <td>4</td>\n",
       "      <td>3</td>\n",
       "      <td>0.275762</td>\n",
       "      <td>0.000000</td>\n",
       "      <td>0.400000</td>\n",
       "      <td>0.333333</td>\n",
       "      <td>0.214286</td>\n",
       "      <td>0</td>\n",
       "      <td>3</td>\n",
       "      <td>0</td>\n",
       "      <td>0</td>\n",
       "      <td>0</td>\n",
       "      <td>0</td>\n",
       "      <td>1</td>\n",
       "      <td>1</td>\n",
       "      <td>1</td>\n",
       "      <td>0</td>\n",
       "    </tr>\n",
       "    <tr>\n",
       "      <th>1</th>\n",
       "      <td>1</td>\n",
       "      <td>0.184211</td>\n",
       "      <td>0.192417</td>\n",
       "      <td>2</td>\n",
       "      <td>0.111111</td>\n",
       "      <td>0.428571</td>\n",
       "      <td>3</td>\n",
       "      <td>0.081081</td>\n",
       "      <td>0.058824</td>\n",
       "      <td>3</td>\n",
       "      <td>0.392857</td>\n",
       "      <td>0</td>\n",
       "      <td>2</td>\n",
       "      <td>3</td>\n",
       "      <td>0.780358</td>\n",
       "      <td>1.000000</td>\n",
       "      <td>0.066667</td>\n",
       "      <td>0.333333</td>\n",
       "      <td>0.071429</td>\n",
       "      <td>0</td>\n",
       "      <td>4</td>\n",
       "      <td>0</td>\n",
       "      <td>0</td>\n",
       "      <td>1</td>\n",
       "      <td>1</td>\n",
       "      <td>0</td>\n",
       "      <td>0</td>\n",
       "      <td>1</td>\n",
       "      <td>1</td>\n",
       "    </tr>\n",
       "    <tr>\n",
       "      <th>2</th>\n",
       "      <td>0</td>\n",
       "      <td>0.315789</td>\n",
       "      <td>0.218589</td>\n",
       "      <td>0</td>\n",
       "      <td>0.388889</td>\n",
       "      <td>0.880952</td>\n",
       "      <td>4</td>\n",
       "      <td>0.243243</td>\n",
       "      <td>0.176471</td>\n",
       "      <td>3</td>\n",
       "      <td>0.035714</td>\n",
       "      <td>1</td>\n",
       "      <td>5</td>\n",
       "      <td>3</td>\n",
       "      <td>0.406870</td>\n",
       "      <td>0.444444</td>\n",
       "      <td>0.466667</td>\n",
       "      <td>0.500000</td>\n",
       "      <td>0.357143</td>\n",
       "      <td>0</td>\n",
       "      <td>1</td>\n",
       "      <td>1</td>\n",
       "      <td>0</td>\n",
       "      <td>0</td>\n",
       "      <td>0</td>\n",
       "      <td>1</td>\n",
       "      <td>0</td>\n",
       "      <td>0</td>\n",
       "      <td>1</td>\n",
       "    </tr>\n",
       "    <tr>\n",
       "      <th>3</th>\n",
       "      <td>0</td>\n",
       "      <td>0.473684</td>\n",
       "      <td>0.163191</td>\n",
       "      <td>0</td>\n",
       "      <td>0.388889</td>\n",
       "      <td>0.500000</td>\n",
       "      <td>4</td>\n",
       "      <td>0.189189</td>\n",
       "      <td>0.411765</td>\n",
       "      <td>1</td>\n",
       "      <td>0.821429</td>\n",
       "      <td>1</td>\n",
       "      <td>4</td>\n",
       "      <td>3</td>\n",
       "      <td>0.973875</td>\n",
       "      <td>0.777778</td>\n",
       "      <td>0.066667</td>\n",
       "      <td>0.333333</td>\n",
       "      <td>0.142857</td>\n",
       "      <td>0</td>\n",
       "      <td>1</td>\n",
       "      <td>1</td>\n",
       "      <td>0</td>\n",
       "      <td>1</td>\n",
       "      <td>0</td>\n",
       "      <td>0</td>\n",
       "      <td>0</td>\n",
       "      <td>1</td>\n",
       "      <td>1</td>\n",
       "    </tr>\n",
       "    <tr>\n",
       "      <th>4</th>\n",
       "      <td>0</td>\n",
       "      <td>0.263158</td>\n",
       "      <td>0.443655</td>\n",
       "      <td>1</td>\n",
       "      <td>0.388889</td>\n",
       "      <td>0.452381</td>\n",
       "      <td>3</td>\n",
       "      <td>0.270270</td>\n",
       "      <td>0.470588</td>\n",
       "      <td>3</td>\n",
       "      <td>0.071429</td>\n",
       "      <td>0</td>\n",
       "      <td>1</td>\n",
       "      <td>3</td>\n",
       "      <td>0.332850</td>\n",
       "      <td>0.111111</td>\n",
       "      <td>0.466667</td>\n",
       "      <td>0.333333</td>\n",
       "      <td>0.285714</td>\n",
       "      <td>0</td>\n",
       "      <td>3</td>\n",
       "      <td>1</td>\n",
       "      <td>0</td>\n",
       "      <td>0</td>\n",
       "      <td>1</td>\n",
       "      <td>0</td>\n",
       "      <td>0</td>\n",
       "      <td>1</td>\n",
       "      <td>1</td>\n",
       "    </tr>\n",
       "  </tbody>\n",
       "</table>\n",
       "</div>"
      ],
      "text/plain": [
       "   OverTime_Yes  TotalWorkingYears  MonthlyIncome  StockOptionLevel  \\\n",
       "0             0           0.315789       0.081885                 0   \n",
       "1             1           0.184211       0.192417                 2   \n",
       "2             0           0.315789       0.218589                 0   \n",
       "3             0           0.473684       0.163191                 0   \n",
       "4             0           0.263158       0.443655                 1   \n",
       "\n",
       "   YearsInCurrentRole       Age  JobSatisfaction  YearsAtCompany  \\\n",
       "0            0.388889  0.285714                4        0.297297   \n",
       "1            0.111111  0.428571                3        0.081081   \n",
       "2            0.388889  0.880952                4        0.243243   \n",
       "3            0.388889  0.500000                4        0.189189   \n",
       "4            0.388889  0.452381                3        0.270270   \n",
       "\n",
       "   YearsWithCurrManager  EnvironmentSatisfaction  DistanceFromHome  \\\n",
       "0              0.411765                        3          0.035714   \n",
       "1              0.058824                        3          0.392857   \n",
       "2              0.176471                        3          0.035714   \n",
       "3              0.411765                        1          0.821429   \n",
       "4              0.470588                        3          0.071429   \n",
       "\n",
       "   MaritalStatus_Single  CommunicationSkill  JobInvolvement  EmployeeNumber  \\\n",
       "0                     1                   4               3        0.275762   \n",
       "1                     0                   2               3        0.780358   \n",
       "2                     1                   5               3        0.406870   \n",
       "3                     1                   4               3        0.973875   \n",
       "4                     0                   1               3        0.332850   \n",
       "\n",
       "   NumCompaniesWorked  YearsSinceLastPromotion  TrainingTimesLastYear  \\\n",
       "0            0.000000                 0.400000               0.333333   \n",
       "1            1.000000                 0.066667               0.333333   \n",
       "2            0.444444                 0.466667               0.500000   \n",
       "3            0.777778                 0.066667               0.333333   \n",
       "4            0.111111                 0.466667               0.333333   \n",
       "\n",
       "   PercentSalaryHike  BusinessTravel_Travel_Frequently  Education  \\\n",
       "0           0.214286                                 0          3   \n",
       "1           0.071429                                 0          4   \n",
       "2           0.357143                                 0          1   \n",
       "3           0.142857                                 0          1   \n",
       "4           0.285714                                 0          3   \n",
       "\n",
       "   Gender_Male  JobRole_Sales Representative  EducationField_Life Sciences  \\\n",
       "0            0                             0                             0   \n",
       "1            0                             0                             1   \n",
       "2            1                             0                             0   \n",
       "3            1                             0                             1   \n",
       "4            1                             0                             0   \n",
       "\n",
       "   MaritalStatus_Married  EducationField_Medical  \\\n",
       "0                      0                       1   \n",
       "1                      1                       0   \n",
       "2                      0                       1   \n",
       "3                      0                       0   \n",
       "4                      1                       0   \n",
       "\n",
       "   JobRole_Laboratory Technician  Department_Research & Development  \\\n",
       "0                              1                                  1   \n",
       "1                              0                                  1   \n",
       "2                              0                                  0   \n",
       "3                              0                                  1   \n",
       "4                              0                                  1   \n",
       "\n",
       "   BusinessTravel_Travel_Rarely  \n",
       "0                             0  \n",
       "1                             1  \n",
       "2                             1  \n",
       "3                             1  \n",
       "4                             1  "
      ]
     },
     "execution_count": 25,
     "metadata": {},
     "output_type": "execute_result"
    }
   ],
   "source": [
    "top_feat_df = standar_df[best_features].drop(['Id'], axis = 1)\n",
    "top_feat_df.head()"
   ]
  },
  {
   "cell_type": "markdown",
   "metadata": {
    "papermill": {
     "duration": 0.054934,
     "end_time": "2020-11-25T11:41:40.255115",
     "exception": false,
     "start_time": "2020-11-25T11:41:40.200181",
     "status": "completed"
    },
    "tags": []
   },
   "source": [
    "<hr>"
   ]
  },
  {
   "cell_type": "markdown",
   "metadata": {
    "papermill": {
     "duration": 0.054311,
     "end_time": "2020-11-25T11:41:40.363807",
     "exception": false,
     "start_time": "2020-11-25T11:41:40.309496",
     "status": "completed"
    },
    "tags": []
   },
   "source": [
    "## Taking care of the skewed features"
   ]
  },
  {
   "cell_type": "markdown",
   "metadata": {
    "papermill": {
     "duration": 0.055368,
     "end_time": "2020-11-25T11:41:40.474563",
     "exception": false,
     "start_time": "2020-11-25T11:41:40.419195",
     "status": "completed"
    },
    "tags": []
   },
   "source": [
    "# \n",
    "To check for skewness in the data and apply the required transformation, I plotted the graph of the original data along with Square Root transformed and Log Transformed"
   ]
  },
  {
   "cell_type": "markdown",
   "metadata": {
    "papermill": {
     "duration": 0.055533,
     "end_time": "2020-11-25T11:41:40.584270",
     "exception": false,
     "start_time": "2020-11-25T11:41:40.528737",
     "status": "completed"
    },
    "tags": []
   },
   "source": [
    "# Model Building"
   ]
  },
  {
   "cell_type": "code",
   "execution_count": 26,
   "metadata": {
    "execution": {
     "iopub.execute_input": "2020-11-25T11:41:40.699923Z",
     "iopub.status.busy": "2020-11-25T11:41:40.698969Z",
     "iopub.status.idle": "2020-11-25T11:41:40.702163Z",
     "shell.execute_reply": "2020-11-25T11:41:40.701656Z"
    },
    "papermill": {
     "duration": 0.062649,
     "end_time": "2020-11-25T11:41:40.702279",
     "exception": false,
     "start_time": "2020-11-25T11:41:40.639630",
     "status": "completed"
    },
    "scrolled": true,
    "tags": []
   },
   "outputs": [],
   "source": [
    "X = top_feat_df\n",
    "y = train_df.Attrition"
   ]
  },
  {
   "cell_type": "code",
   "execution_count": 27,
   "metadata": {
    "execution": {
     "iopub.execute_input": "2020-11-25T11:41:40.818719Z",
     "iopub.status.busy": "2020-11-25T11:41:40.817774Z",
     "iopub.status.idle": "2020-11-25T11:41:40.822752Z",
     "shell.execute_reply": "2020-11-25T11:41:40.822177Z"
    },
    "papermill": {
     "duration": 0.066125,
     "end_time": "2020-11-25T11:41:40.822871",
     "exception": false,
     "start_time": "2020-11-25T11:41:40.756746",
     "status": "completed"
    },
    "tags": []
   },
   "outputs": [],
   "source": [
    "#Splitting the dataset\n",
    "from sklearn.model_selection import train_test_split\n",
    "X_train, X_val, y_train, y_val = train_test_split(X, y, test_size=0.33, random_state=4)"
   ]
  },
  {
   "cell_type": "markdown",
   "metadata": {
    "papermill": {
     "duration": 0.053526,
     "end_time": "2020-11-25T11:41:40.930268",
     "exception": false,
     "start_time": "2020-11-25T11:41:40.876742",
     "status": "completed"
    },
    "tags": []
   },
   "source": [
    "# Logistic Regression"
   ]
  },
  {
   "cell_type": "markdown",
   "metadata": {
    "papermill": {
     "duration": 0.056017,
     "end_time": "2020-11-25T11:41:41.040227",
     "exception": false,
     "start_time": "2020-11-25T11:41:40.984210",
     "status": "completed"
    },
    "tags": []
   },
   "source": [
    "# \n",
    "The first model I tried is Logistic Regression. I used RandomizedSearchCV to get the best parameters. The accuracy score is around 77%."
   ]
  },
  {
   "cell_type": "code",
   "execution_count": 28,
   "metadata": {
    "execution": {
     "iopub.execute_input": "2020-11-25T11:41:41.155030Z",
     "iopub.status.busy": "2020-11-25T11:41:41.154386Z",
     "iopub.status.idle": "2020-11-25T11:41:41.157452Z",
     "shell.execute_reply": "2020-11-25T11:41:41.156759Z"
    },
    "papermill": {
     "duration": 0.062342,
     "end_time": "2020-11-25T11:41:41.157579",
     "exception": false,
     "start_time": "2020-11-25T11:41:41.095237",
     "status": "completed"
    },
    "tags": []
   },
   "outputs": [],
   "source": [
    "from sklearn.model_selection import RandomizedSearchCV\n",
    "from sklearn.metrics import accuracy_score"
   ]
  },
  {
   "cell_type": "code",
   "execution_count": 29,
   "metadata": {
    "execution": {
     "iopub.execute_input": "2020-11-25T11:41:41.277589Z",
     "iopub.status.busy": "2020-11-25T11:41:41.276850Z",
     "iopub.status.idle": "2020-11-25T11:41:51.208114Z",
     "shell.execute_reply": "2020-11-25T11:41:51.208864Z"
    },
    "papermill": {
     "duration": 9.996272,
     "end_time": "2020-11-25T11:41:51.209060",
     "exception": false,
     "start_time": "2020-11-25T11:41:41.212788",
     "status": "completed"
    },
    "scrolled": true,
    "tags": []
   },
   "outputs": [
    {
     "name": "stderr",
     "output_type": "stream",
     "text": [
      "/opt/conda/lib/python3.7/site-packages/sklearn/linear_model/_logistic.py:764: ConvergenceWarning: lbfgs failed to converge (status=1):\n",
      "STOP: TOTAL NO. of ITERATIONS REACHED LIMIT.\n",
      "\n",
      "Increase the number of iterations (max_iter) or scale the data as shown in:\n",
      "    https://scikit-learn.org/stable/modules/preprocessing.html\n",
      "Please also refer to the documentation for alternative solver options:\n",
      "    https://scikit-learn.org/stable/modules/linear_model.html#logistic-regression\n",
      "  extra_warning_msg=_LOGISTIC_SOLVER_CONVERGENCE_MSG)\n",
      "/opt/conda/lib/python3.7/site-packages/sklearn/linear_model/_logistic.py:764: ConvergenceWarning: lbfgs failed to converge (status=1):\n",
      "STOP: TOTAL NO. of ITERATIONS REACHED LIMIT.\n",
      "\n",
      "Increase the number of iterations (max_iter) or scale the data as shown in:\n",
      "    https://scikit-learn.org/stable/modules/preprocessing.html\n",
      "Please also refer to the documentation for alternative solver options:\n",
      "    https://scikit-learn.org/stable/modules/linear_model.html#logistic-regression\n",
      "  extra_warning_msg=_LOGISTIC_SOLVER_CONVERGENCE_MSG)\n",
      "/opt/conda/lib/python3.7/site-packages/sklearn/linear_model/_logistic.py:764: ConvergenceWarning: lbfgs failed to converge (status=1):\n",
      "STOP: TOTAL NO. of ITERATIONS REACHED LIMIT.\n",
      "\n",
      "Increase the number of iterations (max_iter) or scale the data as shown in:\n",
      "    https://scikit-learn.org/stable/modules/preprocessing.html\n",
      "Please also refer to the documentation for alternative solver options:\n",
      "    https://scikit-learn.org/stable/modules/linear_model.html#logistic-regression\n",
      "  extra_warning_msg=_LOGISTIC_SOLVER_CONVERGENCE_MSG)\n",
      "/opt/conda/lib/python3.7/site-packages/sklearn/linear_model/_logistic.py:764: ConvergenceWarning: lbfgs failed to converge (status=1):\n",
      "STOP: TOTAL NO. of ITERATIONS REACHED LIMIT.\n",
      "\n",
      "Increase the number of iterations (max_iter) or scale the data as shown in:\n",
      "    https://scikit-learn.org/stable/modules/preprocessing.html\n",
      "Please also refer to the documentation for alternative solver options:\n",
      "    https://scikit-learn.org/stable/modules/linear_model.html#logistic-regression\n",
      "  extra_warning_msg=_LOGISTIC_SOLVER_CONVERGENCE_MSG)\n",
      "/opt/conda/lib/python3.7/site-packages/sklearn/linear_model/_logistic.py:764: ConvergenceWarning: lbfgs failed to converge (status=1):\n",
      "STOP: TOTAL NO. of ITERATIONS REACHED LIMIT.\n",
      "\n",
      "Increase the number of iterations (max_iter) or scale the data as shown in:\n",
      "    https://scikit-learn.org/stable/modules/preprocessing.html\n",
      "Please also refer to the documentation for alternative solver options:\n",
      "    https://scikit-learn.org/stable/modules/linear_model.html#logistic-regression\n",
      "  extra_warning_msg=_LOGISTIC_SOLVER_CONVERGENCE_MSG)\n",
      "/opt/conda/lib/python3.7/site-packages/sklearn/linear_model/_logistic.py:764: ConvergenceWarning: lbfgs failed to converge (status=1):\n",
      "STOP: TOTAL NO. of ITERATIONS REACHED LIMIT.\n",
      "\n",
      "Increase the number of iterations (max_iter) or scale the data as shown in:\n",
      "    https://scikit-learn.org/stable/modules/preprocessing.html\n",
      "Please also refer to the documentation for alternative solver options:\n",
      "    https://scikit-learn.org/stable/modules/linear_model.html#logistic-regression\n",
      "  extra_warning_msg=_LOGISTIC_SOLVER_CONVERGENCE_MSG)\n",
      "/opt/conda/lib/python3.7/site-packages/sklearn/linear_model/_logistic.py:764: ConvergenceWarning: lbfgs failed to converge (status=1):\n",
      "STOP: TOTAL NO. of ITERATIONS REACHED LIMIT.\n",
      "\n",
      "Increase the number of iterations (max_iter) or scale the data as shown in:\n",
      "    https://scikit-learn.org/stable/modules/preprocessing.html\n",
      "Please also refer to the documentation for alternative solver options:\n",
      "    https://scikit-learn.org/stable/modules/linear_model.html#logistic-regression\n",
      "  extra_warning_msg=_LOGISTIC_SOLVER_CONVERGENCE_MSG)\n",
      "/opt/conda/lib/python3.7/site-packages/sklearn/linear_model/_logistic.py:764: ConvergenceWarning: lbfgs failed to converge (status=1):\n",
      "STOP: TOTAL NO. of ITERATIONS REACHED LIMIT.\n",
      "\n",
      "Increase the number of iterations (max_iter) or scale the data as shown in:\n",
      "    https://scikit-learn.org/stable/modules/preprocessing.html\n",
      "Please also refer to the documentation for alternative solver options:\n",
      "    https://scikit-learn.org/stable/modules/linear_model.html#logistic-regression\n",
      "  extra_warning_msg=_LOGISTIC_SOLVER_CONVERGENCE_MSG)\n",
      "/opt/conda/lib/python3.7/site-packages/sklearn/linear_model/_logistic.py:764: ConvergenceWarning: lbfgs failed to converge (status=1):\n",
      "STOP: TOTAL NO. of ITERATIONS REACHED LIMIT.\n",
      "\n",
      "Increase the number of iterations (max_iter) or scale the data as shown in:\n",
      "    https://scikit-learn.org/stable/modules/preprocessing.html\n",
      "Please also refer to the documentation for alternative solver options:\n",
      "    https://scikit-learn.org/stable/modules/linear_model.html#logistic-regression\n",
      "  extra_warning_msg=_LOGISTIC_SOLVER_CONVERGENCE_MSG)\n",
      "/opt/conda/lib/python3.7/site-packages/sklearn/linear_model/_logistic.py:764: ConvergenceWarning: lbfgs failed to converge (status=1):\n",
      "STOP: TOTAL NO. of ITERATIONS REACHED LIMIT.\n",
      "\n",
      "Increase the number of iterations (max_iter) or scale the data as shown in:\n",
      "    https://scikit-learn.org/stable/modules/preprocessing.html\n",
      "Please also refer to the documentation for alternative solver options:\n",
      "    https://scikit-learn.org/stable/modules/linear_model.html#logistic-regression\n",
      "  extra_warning_msg=_LOGISTIC_SOLVER_CONVERGENCE_MSG)\n",
      "/opt/conda/lib/python3.7/site-packages/sklearn/linear_model/_logistic.py:764: ConvergenceWarning: lbfgs failed to converge (status=1):\n",
      "STOP: TOTAL NO. of ITERATIONS REACHED LIMIT.\n",
      "\n",
      "Increase the number of iterations (max_iter) or scale the data as shown in:\n",
      "    https://scikit-learn.org/stable/modules/preprocessing.html\n",
      "Please also refer to the documentation for alternative solver options:\n",
      "    https://scikit-learn.org/stable/modules/linear_model.html#logistic-regression\n",
      "  extra_warning_msg=_LOGISTIC_SOLVER_CONVERGENCE_MSG)\n",
      "/opt/conda/lib/python3.7/site-packages/sklearn/linear_model/_logistic.py:764: ConvergenceWarning: lbfgs failed to converge (status=1):\n",
      "STOP: TOTAL NO. of ITERATIONS REACHED LIMIT.\n",
      "\n",
      "Increase the number of iterations (max_iter) or scale the data as shown in:\n",
      "    https://scikit-learn.org/stable/modules/preprocessing.html\n",
      "Please also refer to the documentation for alternative solver options:\n",
      "    https://scikit-learn.org/stable/modules/linear_model.html#logistic-regression\n",
      "  extra_warning_msg=_LOGISTIC_SOLVER_CONVERGENCE_MSG)\n",
      "/opt/conda/lib/python3.7/site-packages/sklearn/linear_model/_logistic.py:764: ConvergenceWarning: lbfgs failed to converge (status=1):\n",
      "STOP: TOTAL NO. of ITERATIONS REACHED LIMIT.\n",
      "\n",
      "Increase the number of iterations (max_iter) or scale the data as shown in:\n",
      "    https://scikit-learn.org/stable/modules/preprocessing.html\n",
      "Please also refer to the documentation for alternative solver options:\n",
      "    https://scikit-learn.org/stable/modules/linear_model.html#logistic-regression\n",
      "  extra_warning_msg=_LOGISTIC_SOLVER_CONVERGENCE_MSG)\n",
      "/opt/conda/lib/python3.7/site-packages/sklearn/linear_model/_logistic.py:764: ConvergenceWarning: lbfgs failed to converge (status=1):\n",
      "STOP: TOTAL NO. of ITERATIONS REACHED LIMIT.\n",
      "\n",
      "Increase the number of iterations (max_iter) or scale the data as shown in:\n",
      "    https://scikit-learn.org/stable/modules/preprocessing.html\n",
      "Please also refer to the documentation for alternative solver options:\n",
      "    https://scikit-learn.org/stable/modules/linear_model.html#logistic-regression\n",
      "  extra_warning_msg=_LOGISTIC_SOLVER_CONVERGENCE_MSG)\n",
      "/opt/conda/lib/python3.7/site-packages/sklearn/linear_model/_logistic.py:764: ConvergenceWarning: lbfgs failed to converge (status=1):\n",
      "STOP: TOTAL NO. of ITERATIONS REACHED LIMIT.\n",
      "\n",
      "Increase the number of iterations (max_iter) or scale the data as shown in:\n",
      "    https://scikit-learn.org/stable/modules/preprocessing.html\n",
      "Please also refer to the documentation for alternative solver options:\n",
      "    https://scikit-learn.org/stable/modules/linear_model.html#logistic-regression\n",
      "  extra_warning_msg=_LOGISTIC_SOLVER_CONVERGENCE_MSG)\n",
      "/opt/conda/lib/python3.7/site-packages/sklearn/linear_model/_logistic.py:764: ConvergenceWarning: lbfgs failed to converge (status=1):\n",
      "STOP: TOTAL NO. of ITERATIONS REACHED LIMIT.\n",
      "\n",
      "Increase the number of iterations (max_iter) or scale the data as shown in:\n",
      "    https://scikit-learn.org/stable/modules/preprocessing.html\n",
      "Please also refer to the documentation for alternative solver options:\n",
      "    https://scikit-learn.org/stable/modules/linear_model.html#logistic-regression\n",
      "  extra_warning_msg=_LOGISTIC_SOLVER_CONVERGENCE_MSG)\n",
      "/opt/conda/lib/python3.7/site-packages/sklearn/linear_model/_logistic.py:764: ConvergenceWarning: lbfgs failed to converge (status=1):\n",
      "STOP: TOTAL NO. of ITERATIONS REACHED LIMIT.\n",
      "\n",
      "Increase the number of iterations (max_iter) or scale the data as shown in:\n",
      "    https://scikit-learn.org/stable/modules/preprocessing.html\n",
      "Please also refer to the documentation for alternative solver options:\n",
      "    https://scikit-learn.org/stable/modules/linear_model.html#logistic-regression\n",
      "  extra_warning_msg=_LOGISTIC_SOLVER_CONVERGENCE_MSG)\n",
      "/opt/conda/lib/python3.7/site-packages/sklearn/linear_model/_logistic.py:764: ConvergenceWarning: lbfgs failed to converge (status=1):\n",
      "STOP: TOTAL NO. of ITERATIONS REACHED LIMIT.\n",
      "\n",
      "Increase the number of iterations (max_iter) or scale the data as shown in:\n",
      "    https://scikit-learn.org/stable/modules/preprocessing.html\n",
      "Please also refer to the documentation for alternative solver options:\n",
      "    https://scikit-learn.org/stable/modules/linear_model.html#logistic-regression\n",
      "  extra_warning_msg=_LOGISTIC_SOLVER_CONVERGENCE_MSG)\n",
      "/opt/conda/lib/python3.7/site-packages/sklearn/linear_model/_logistic.py:764: ConvergenceWarning: lbfgs failed to converge (status=1):\n",
      "STOP: TOTAL NO. of ITERATIONS REACHED LIMIT.\n",
      "\n",
      "Increase the number of iterations (max_iter) or scale the data as shown in:\n",
      "    https://scikit-learn.org/stable/modules/preprocessing.html\n",
      "Please also refer to the documentation for alternative solver options:\n",
      "    https://scikit-learn.org/stable/modules/linear_model.html#logistic-regression\n",
      "  extra_warning_msg=_LOGISTIC_SOLVER_CONVERGENCE_MSG)\n",
      "/opt/conda/lib/python3.7/site-packages/sklearn/linear_model/_logistic.py:764: ConvergenceWarning: lbfgs failed to converge (status=1):\n",
      "STOP: TOTAL NO. of ITERATIONS REACHED LIMIT.\n",
      "\n",
      "Increase the number of iterations (max_iter) or scale the data as shown in:\n",
      "    https://scikit-learn.org/stable/modules/preprocessing.html\n",
      "Please also refer to the documentation for alternative solver options:\n",
      "    https://scikit-learn.org/stable/modules/linear_model.html#logistic-regression\n",
      "  extra_warning_msg=_LOGISTIC_SOLVER_CONVERGENCE_MSG)\n",
      "/opt/conda/lib/python3.7/site-packages/sklearn/linear_model/_logistic.py:764: ConvergenceWarning: lbfgs failed to converge (status=1):\n",
      "STOP: TOTAL NO. of ITERATIONS REACHED LIMIT.\n",
      "\n",
      "Increase the number of iterations (max_iter) or scale the data as shown in:\n",
      "    https://scikit-learn.org/stable/modules/preprocessing.html\n",
      "Please also refer to the documentation for alternative solver options:\n",
      "    https://scikit-learn.org/stable/modules/linear_model.html#logistic-regression\n",
      "  extra_warning_msg=_LOGISTIC_SOLVER_CONVERGENCE_MSG)\n",
      "/opt/conda/lib/python3.7/site-packages/sklearn/linear_model/_logistic.py:764: ConvergenceWarning: lbfgs failed to converge (status=1):\n",
      "STOP: TOTAL NO. of ITERATIONS REACHED LIMIT.\n",
      "\n",
      "Increase the number of iterations (max_iter) or scale the data as shown in:\n",
      "    https://scikit-learn.org/stable/modules/preprocessing.html\n",
      "Please also refer to the documentation for alternative solver options:\n",
      "    https://scikit-learn.org/stable/modules/linear_model.html#logistic-regression\n",
      "  extra_warning_msg=_LOGISTIC_SOLVER_CONVERGENCE_MSG)\n",
      "/opt/conda/lib/python3.7/site-packages/sklearn/linear_model/_logistic.py:764: ConvergenceWarning: lbfgs failed to converge (status=1):\n",
      "STOP: TOTAL NO. of ITERATIONS REACHED LIMIT.\n",
      "\n",
      "Increase the number of iterations (max_iter) or scale the data as shown in:\n",
      "    https://scikit-learn.org/stable/modules/preprocessing.html\n",
      "Please also refer to the documentation for alternative solver options:\n",
      "    https://scikit-learn.org/stable/modules/linear_model.html#logistic-regression\n",
      "  extra_warning_msg=_LOGISTIC_SOLVER_CONVERGENCE_MSG)\n",
      "/opt/conda/lib/python3.7/site-packages/sklearn/linear_model/_logistic.py:764: ConvergenceWarning: lbfgs failed to converge (status=1):\n",
      "STOP: TOTAL NO. of ITERATIONS REACHED LIMIT.\n",
      "\n",
      "Increase the number of iterations (max_iter) or scale the data as shown in:\n",
      "    https://scikit-learn.org/stable/modules/preprocessing.html\n",
      "Please also refer to the documentation for alternative solver options:\n",
      "    https://scikit-learn.org/stable/modules/linear_model.html#logistic-regression\n",
      "  extra_warning_msg=_LOGISTIC_SOLVER_CONVERGENCE_MSG)\n",
      "/opt/conda/lib/python3.7/site-packages/sklearn/linear_model/_logistic.py:764: ConvergenceWarning: lbfgs failed to converge (status=1):\n",
      "STOP: TOTAL NO. of ITERATIONS REACHED LIMIT.\n",
      "\n",
      "Increase the number of iterations (max_iter) or scale the data as shown in:\n",
      "    https://scikit-learn.org/stable/modules/preprocessing.html\n",
      "Please also refer to the documentation for alternative solver options:\n",
      "    https://scikit-learn.org/stable/modules/linear_model.html#logistic-regression\n",
      "  extra_warning_msg=_LOGISTIC_SOLVER_CONVERGENCE_MSG)\n",
      "/opt/conda/lib/python3.7/site-packages/sklearn/linear_model/_logistic.py:764: ConvergenceWarning: lbfgs failed to converge (status=1):\n",
      "STOP: TOTAL NO. of ITERATIONS REACHED LIMIT.\n",
      "\n",
      "Increase the number of iterations (max_iter) or scale the data as shown in:\n",
      "    https://scikit-learn.org/stable/modules/preprocessing.html\n",
      "Please also refer to the documentation for alternative solver options:\n",
      "    https://scikit-learn.org/stable/modules/linear_model.html#logistic-regression\n",
      "  extra_warning_msg=_LOGISTIC_SOLVER_CONVERGENCE_MSG)\n",
      "/opt/conda/lib/python3.7/site-packages/sklearn/linear_model/_logistic.py:764: ConvergenceWarning: lbfgs failed to converge (status=1):\n",
      "STOP: TOTAL NO. of ITERATIONS REACHED LIMIT.\n",
      "\n",
      "Increase the number of iterations (max_iter) or scale the data as shown in:\n",
      "    https://scikit-learn.org/stable/modules/preprocessing.html\n",
      "Please also refer to the documentation for alternative solver options:\n",
      "    https://scikit-learn.org/stable/modules/linear_model.html#logistic-regression\n",
      "  extra_warning_msg=_LOGISTIC_SOLVER_CONVERGENCE_MSG)\n",
      "/opt/conda/lib/python3.7/site-packages/sklearn/linear_model/_logistic.py:764: ConvergenceWarning: lbfgs failed to converge (status=1):\n",
      "STOP: TOTAL NO. of ITERATIONS REACHED LIMIT.\n",
      "\n",
      "Increase the number of iterations (max_iter) or scale the data as shown in:\n",
      "    https://scikit-learn.org/stable/modules/preprocessing.html\n",
      "Please also refer to the documentation for alternative solver options:\n",
      "    https://scikit-learn.org/stable/modules/linear_model.html#logistic-regression\n",
      "  extra_warning_msg=_LOGISTIC_SOLVER_CONVERGENCE_MSG)\n",
      "/opt/conda/lib/python3.7/site-packages/sklearn/linear_model/_logistic.py:764: ConvergenceWarning: lbfgs failed to converge (status=1):\n",
      "STOP: TOTAL NO. of ITERATIONS REACHED LIMIT.\n",
      "\n",
      "Increase the number of iterations (max_iter) or scale the data as shown in:\n",
      "    https://scikit-learn.org/stable/modules/preprocessing.html\n",
      "Please also refer to the documentation for alternative solver options:\n",
      "    https://scikit-learn.org/stable/modules/linear_model.html#logistic-regression\n",
      "  extra_warning_msg=_LOGISTIC_SOLVER_CONVERGENCE_MSG)\n",
      "/opt/conda/lib/python3.7/site-packages/sklearn/linear_model/_logistic.py:764: ConvergenceWarning: lbfgs failed to converge (status=1):\n",
      "STOP: TOTAL NO. of ITERATIONS REACHED LIMIT.\n",
      "\n",
      "Increase the number of iterations (max_iter) or scale the data as shown in:\n",
      "    https://scikit-learn.org/stable/modules/preprocessing.html\n",
      "Please also refer to the documentation for alternative solver options:\n",
      "    https://scikit-learn.org/stable/modules/linear_model.html#logistic-regression\n",
      "  extra_warning_msg=_LOGISTIC_SOLVER_CONVERGENCE_MSG)\n",
      "/opt/conda/lib/python3.7/site-packages/sklearn/linear_model/_logistic.py:764: ConvergenceWarning: lbfgs failed to converge (status=1):\n",
      "STOP: TOTAL NO. of ITERATIONS REACHED LIMIT.\n",
      "\n",
      "Increase the number of iterations (max_iter) or scale the data as shown in:\n",
      "    https://scikit-learn.org/stable/modules/preprocessing.html\n",
      "Please also refer to the documentation for alternative solver options:\n",
      "    https://scikit-learn.org/stable/modules/linear_model.html#logistic-regression\n",
      "  extra_warning_msg=_LOGISTIC_SOLVER_CONVERGENCE_MSG)\n",
      "/opt/conda/lib/python3.7/site-packages/sklearn/linear_model/_logistic.py:764: ConvergenceWarning: lbfgs failed to converge (status=1):\n",
      "STOP: TOTAL NO. of ITERATIONS REACHED LIMIT.\n",
      "\n",
      "Increase the number of iterations (max_iter) or scale the data as shown in:\n",
      "    https://scikit-learn.org/stable/modules/preprocessing.html\n",
      "Please also refer to the documentation for alternative solver options:\n",
      "    https://scikit-learn.org/stable/modules/linear_model.html#logistic-regression\n",
      "  extra_warning_msg=_LOGISTIC_SOLVER_CONVERGENCE_MSG)\n",
      "/opt/conda/lib/python3.7/site-packages/sklearn/linear_model/_logistic.py:764: ConvergenceWarning: lbfgs failed to converge (status=1):\n",
      "STOP: TOTAL NO. of ITERATIONS REACHED LIMIT.\n",
      "\n",
      "Increase the number of iterations (max_iter) or scale the data as shown in:\n",
      "    https://scikit-learn.org/stable/modules/preprocessing.html\n",
      "Please also refer to the documentation for alternative solver options:\n",
      "    https://scikit-learn.org/stable/modules/linear_model.html#logistic-regression\n",
      "  extra_warning_msg=_LOGISTIC_SOLVER_CONVERGENCE_MSG)\n",
      "/opt/conda/lib/python3.7/site-packages/sklearn/linear_model/_logistic.py:764: ConvergenceWarning: lbfgs failed to converge (status=1):\n",
      "STOP: TOTAL NO. of ITERATIONS REACHED LIMIT.\n",
      "\n",
      "Increase the number of iterations (max_iter) or scale the data as shown in:\n",
      "    https://scikit-learn.org/stable/modules/preprocessing.html\n",
      "Please also refer to the documentation for alternative solver options:\n",
      "    https://scikit-learn.org/stable/modules/linear_model.html#logistic-regression\n",
      "  extra_warning_msg=_LOGISTIC_SOLVER_CONVERGENCE_MSG)\n",
      "/opt/conda/lib/python3.7/site-packages/sklearn/linear_model/_logistic.py:764: ConvergenceWarning: lbfgs failed to converge (status=1):\n",
      "STOP: TOTAL NO. of ITERATIONS REACHED LIMIT.\n",
      "\n",
      "Increase the number of iterations (max_iter) or scale the data as shown in:\n",
      "    https://scikit-learn.org/stable/modules/preprocessing.html\n",
      "Please also refer to the documentation for alternative solver options:\n",
      "    https://scikit-learn.org/stable/modules/linear_model.html#logistic-regression\n",
      "  extra_warning_msg=_LOGISTIC_SOLVER_CONVERGENCE_MSG)\n",
      "/opt/conda/lib/python3.7/site-packages/sklearn/linear_model/_logistic.py:764: ConvergenceWarning: lbfgs failed to converge (status=1):\n",
      "STOP: TOTAL NO. of ITERATIONS REACHED LIMIT.\n",
      "\n",
      "Increase the number of iterations (max_iter) or scale the data as shown in:\n",
      "    https://scikit-learn.org/stable/modules/preprocessing.html\n",
      "Please also refer to the documentation for alternative solver options:\n",
      "    https://scikit-learn.org/stable/modules/linear_model.html#logistic-regression\n",
      "  extra_warning_msg=_LOGISTIC_SOLVER_CONVERGENCE_MSG)\n",
      "/opt/conda/lib/python3.7/site-packages/sklearn/linear_model/_logistic.py:764: ConvergenceWarning: lbfgs failed to converge (status=1):\n",
      "STOP: TOTAL NO. of ITERATIONS REACHED LIMIT.\n",
      "\n",
      "Increase the number of iterations (max_iter) or scale the data as shown in:\n",
      "    https://scikit-learn.org/stable/modules/preprocessing.html\n",
      "Please also refer to the documentation for alternative solver options:\n",
      "    https://scikit-learn.org/stable/modules/linear_model.html#logistic-regression\n",
      "  extra_warning_msg=_LOGISTIC_SOLVER_CONVERGENCE_MSG)\n",
      "/opt/conda/lib/python3.7/site-packages/sklearn/linear_model/_logistic.py:764: ConvergenceWarning: lbfgs failed to converge (status=1):\n",
      "STOP: TOTAL NO. of ITERATIONS REACHED LIMIT.\n",
      "\n",
      "Increase the number of iterations (max_iter) or scale the data as shown in:\n",
      "    https://scikit-learn.org/stable/modules/preprocessing.html\n",
      "Please also refer to the documentation for alternative solver options:\n",
      "    https://scikit-learn.org/stable/modules/linear_model.html#logistic-regression\n",
      "  extra_warning_msg=_LOGISTIC_SOLVER_CONVERGENCE_MSG)\n",
      "/opt/conda/lib/python3.7/site-packages/sklearn/linear_model/_logistic.py:764: ConvergenceWarning: lbfgs failed to converge (status=1):\n",
      "STOP: TOTAL NO. of ITERATIONS REACHED LIMIT.\n",
      "\n",
      "Increase the number of iterations (max_iter) or scale the data as shown in:\n",
      "    https://scikit-learn.org/stable/modules/preprocessing.html\n",
      "Please also refer to the documentation for alternative solver options:\n",
      "    https://scikit-learn.org/stable/modules/linear_model.html#logistic-regression\n",
      "  extra_warning_msg=_LOGISTIC_SOLVER_CONVERGENCE_MSG)\n",
      "/opt/conda/lib/python3.7/site-packages/sklearn/linear_model/_logistic.py:764: ConvergenceWarning: lbfgs failed to converge (status=1):\n",
      "STOP: TOTAL NO. of ITERATIONS REACHED LIMIT.\n",
      "\n",
      "Increase the number of iterations (max_iter) or scale the data as shown in:\n",
      "    https://scikit-learn.org/stable/modules/preprocessing.html\n",
      "Please also refer to the documentation for alternative solver options:\n",
      "    https://scikit-learn.org/stable/modules/linear_model.html#logistic-regression\n",
      "  extra_warning_msg=_LOGISTIC_SOLVER_CONVERGENCE_MSG)\n",
      "/opt/conda/lib/python3.7/site-packages/sklearn/linear_model/_logistic.py:764: ConvergenceWarning: lbfgs failed to converge (status=1):\n",
      "STOP: TOTAL NO. of ITERATIONS REACHED LIMIT.\n",
      "\n",
      "Increase the number of iterations (max_iter) or scale the data as shown in:\n",
      "    https://scikit-learn.org/stable/modules/preprocessing.html\n",
      "Please also refer to the documentation for alternative solver options:\n",
      "    https://scikit-learn.org/stable/modules/linear_model.html#logistic-regression\n",
      "  extra_warning_msg=_LOGISTIC_SOLVER_CONVERGENCE_MSG)\n",
      "/opt/conda/lib/python3.7/site-packages/sklearn/linear_model/_logistic.py:764: ConvergenceWarning: lbfgs failed to converge (status=1):\n",
      "STOP: TOTAL NO. of ITERATIONS REACHED LIMIT.\n",
      "\n",
      "Increase the number of iterations (max_iter) or scale the data as shown in:\n",
      "    https://scikit-learn.org/stable/modules/preprocessing.html\n",
      "Please also refer to the documentation for alternative solver options:\n",
      "    https://scikit-learn.org/stable/modules/linear_model.html#logistic-regression\n",
      "  extra_warning_msg=_LOGISTIC_SOLVER_CONVERGENCE_MSG)\n",
      "/opt/conda/lib/python3.7/site-packages/sklearn/linear_model/_logistic.py:764: ConvergenceWarning: lbfgs failed to converge (status=1):\n",
      "STOP: TOTAL NO. of ITERATIONS REACHED LIMIT.\n",
      "\n",
      "Increase the number of iterations (max_iter) or scale the data as shown in:\n",
      "    https://scikit-learn.org/stable/modules/preprocessing.html\n",
      "Please also refer to the documentation for alternative solver options:\n",
      "    https://scikit-learn.org/stable/modules/linear_model.html#logistic-regression\n",
      "  extra_warning_msg=_LOGISTIC_SOLVER_CONVERGENCE_MSG)\n",
      "/opt/conda/lib/python3.7/site-packages/sklearn/linear_model/_logistic.py:764: ConvergenceWarning: lbfgs failed to converge (status=1):\n",
      "STOP: TOTAL NO. of ITERATIONS REACHED LIMIT.\n",
      "\n",
      "Increase the number of iterations (max_iter) or scale the data as shown in:\n",
      "    https://scikit-learn.org/stable/modules/preprocessing.html\n",
      "Please also refer to the documentation for alternative solver options:\n",
      "    https://scikit-learn.org/stable/modules/linear_model.html#logistic-regression\n",
      "  extra_warning_msg=_LOGISTIC_SOLVER_CONVERGENCE_MSG)\n",
      "/opt/conda/lib/python3.7/site-packages/sklearn/linear_model/_logistic.py:764: ConvergenceWarning: lbfgs failed to converge (status=1):\n",
      "STOP: TOTAL NO. of ITERATIONS REACHED LIMIT.\n",
      "\n",
      "Increase the number of iterations (max_iter) or scale the data as shown in:\n",
      "    https://scikit-learn.org/stable/modules/preprocessing.html\n",
      "Please also refer to the documentation for alternative solver options:\n",
      "    https://scikit-learn.org/stable/modules/linear_model.html#logistic-regression\n",
      "  extra_warning_msg=_LOGISTIC_SOLVER_CONVERGENCE_MSG)\n",
      "/opt/conda/lib/python3.7/site-packages/sklearn/linear_model/_logistic.py:764: ConvergenceWarning: lbfgs failed to converge (status=1):\n",
      "STOP: TOTAL NO. of ITERATIONS REACHED LIMIT.\n",
      "\n",
      "Increase the number of iterations (max_iter) or scale the data as shown in:\n",
      "    https://scikit-learn.org/stable/modules/preprocessing.html\n",
      "Please also refer to the documentation for alternative solver options:\n",
      "    https://scikit-learn.org/stable/modules/linear_model.html#logistic-regression\n",
      "  extra_warning_msg=_LOGISTIC_SOLVER_CONVERGENCE_MSG)\n",
      "/opt/conda/lib/python3.7/site-packages/sklearn/linear_model/_logistic.py:764: ConvergenceWarning: lbfgs failed to converge (status=1):\n",
      "STOP: TOTAL NO. of ITERATIONS REACHED LIMIT.\n",
      "\n",
      "Increase the number of iterations (max_iter) or scale the data as shown in:\n",
      "    https://scikit-learn.org/stable/modules/preprocessing.html\n",
      "Please also refer to the documentation for alternative solver options:\n",
      "    https://scikit-learn.org/stable/modules/linear_model.html#logistic-regression\n",
      "  extra_warning_msg=_LOGISTIC_SOLVER_CONVERGENCE_MSG)\n",
      "/opt/conda/lib/python3.7/site-packages/sklearn/linear_model/_logistic.py:764: ConvergenceWarning: lbfgs failed to converge (status=1):\n",
      "STOP: TOTAL NO. of ITERATIONS REACHED LIMIT.\n",
      "\n",
      "Increase the number of iterations (max_iter) or scale the data as shown in:\n",
      "    https://scikit-learn.org/stable/modules/preprocessing.html\n",
      "Please also refer to the documentation for alternative solver options:\n",
      "    https://scikit-learn.org/stable/modules/linear_model.html#logistic-regression\n",
      "  extra_warning_msg=_LOGISTIC_SOLVER_CONVERGENCE_MSG)\n",
      "/opt/conda/lib/python3.7/site-packages/sklearn/linear_model/_logistic.py:764: ConvergenceWarning: lbfgs failed to converge (status=1):\n",
      "STOP: TOTAL NO. of ITERATIONS REACHED LIMIT.\n",
      "\n",
      "Increase the number of iterations (max_iter) or scale the data as shown in:\n",
      "    https://scikit-learn.org/stable/modules/preprocessing.html\n",
      "Please also refer to the documentation for alternative solver options:\n",
      "    https://scikit-learn.org/stable/modules/linear_model.html#logistic-regression\n",
      "  extra_warning_msg=_LOGISTIC_SOLVER_CONVERGENCE_MSG)\n",
      "/opt/conda/lib/python3.7/site-packages/sklearn/linear_model/_logistic.py:764: ConvergenceWarning: lbfgs failed to converge (status=1):\n",
      "STOP: TOTAL NO. of ITERATIONS REACHED LIMIT.\n",
      "\n",
      "Increase the number of iterations (max_iter) or scale the data as shown in:\n",
      "    https://scikit-learn.org/stable/modules/preprocessing.html\n",
      "Please also refer to the documentation for alternative solver options:\n",
      "    https://scikit-learn.org/stable/modules/linear_model.html#logistic-regression\n",
      "  extra_warning_msg=_LOGISTIC_SOLVER_CONVERGENCE_MSG)\n",
      "/opt/conda/lib/python3.7/site-packages/sklearn/linear_model/_logistic.py:764: ConvergenceWarning: lbfgs failed to converge (status=1):\n",
      "STOP: TOTAL NO. of ITERATIONS REACHED LIMIT.\n",
      "\n",
      "Increase the number of iterations (max_iter) or scale the data as shown in:\n",
      "    https://scikit-learn.org/stable/modules/preprocessing.html\n",
      "Please also refer to the documentation for alternative solver options:\n",
      "    https://scikit-learn.org/stable/modules/linear_model.html#logistic-regression\n",
      "  extra_warning_msg=_LOGISTIC_SOLVER_CONVERGENCE_MSG)\n",
      "/opt/conda/lib/python3.7/site-packages/sklearn/linear_model/_logistic.py:764: ConvergenceWarning: lbfgs failed to converge (status=1):\n",
      "STOP: TOTAL NO. of ITERATIONS REACHED LIMIT.\n",
      "\n",
      "Increase the number of iterations (max_iter) or scale the data as shown in:\n",
      "    https://scikit-learn.org/stable/modules/preprocessing.html\n",
      "Please also refer to the documentation for alternative solver options:\n",
      "    https://scikit-learn.org/stable/modules/linear_model.html#logistic-regression\n",
      "  extra_warning_msg=_LOGISTIC_SOLVER_CONVERGENCE_MSG)\n",
      "/opt/conda/lib/python3.7/site-packages/sklearn/linear_model/_logistic.py:764: ConvergenceWarning: lbfgs failed to converge (status=1):\n",
      "STOP: TOTAL NO. of ITERATIONS REACHED LIMIT.\n",
      "\n",
      "Increase the number of iterations (max_iter) or scale the data as shown in:\n",
      "    https://scikit-learn.org/stable/modules/preprocessing.html\n",
      "Please also refer to the documentation for alternative solver options:\n",
      "    https://scikit-learn.org/stable/modules/linear_model.html#logistic-regression\n",
      "  extra_warning_msg=_LOGISTIC_SOLVER_CONVERGENCE_MSG)\n",
      "/opt/conda/lib/python3.7/site-packages/sklearn/linear_model/_logistic.py:764: ConvergenceWarning: lbfgs failed to converge (status=1):\n",
      "STOP: TOTAL NO. of ITERATIONS REACHED LIMIT.\n",
      "\n",
      "Increase the number of iterations (max_iter) or scale the data as shown in:\n",
      "    https://scikit-learn.org/stable/modules/preprocessing.html\n",
      "Please also refer to the documentation for alternative solver options:\n",
      "    https://scikit-learn.org/stable/modules/linear_model.html#logistic-regression\n",
      "  extra_warning_msg=_LOGISTIC_SOLVER_CONVERGENCE_MSG)\n",
      "/opt/conda/lib/python3.7/site-packages/sklearn/linear_model/_logistic.py:764: ConvergenceWarning: lbfgs failed to converge (status=1):\n",
      "STOP: TOTAL NO. of ITERATIONS REACHED LIMIT.\n",
      "\n",
      "Increase the number of iterations (max_iter) or scale the data as shown in:\n",
      "    https://scikit-learn.org/stable/modules/preprocessing.html\n",
      "Please also refer to the documentation for alternative solver options:\n",
      "    https://scikit-learn.org/stable/modules/linear_model.html#logistic-regression\n",
      "  extra_warning_msg=_LOGISTIC_SOLVER_CONVERGENCE_MSG)\n",
      "/opt/conda/lib/python3.7/site-packages/sklearn/linear_model/_logistic.py:764: ConvergenceWarning: lbfgs failed to converge (status=1):\n",
      "STOP: TOTAL NO. of ITERATIONS REACHED LIMIT.\n",
      "\n",
      "Increase the number of iterations (max_iter) or scale the data as shown in:\n",
      "    https://scikit-learn.org/stable/modules/preprocessing.html\n",
      "Please also refer to the documentation for alternative solver options:\n",
      "    https://scikit-learn.org/stable/modules/linear_model.html#logistic-regression\n",
      "  extra_warning_msg=_LOGISTIC_SOLVER_CONVERGENCE_MSG)\n",
      "/opt/conda/lib/python3.7/site-packages/sklearn/linear_model/_logistic.py:764: ConvergenceWarning: lbfgs failed to converge (status=1):\n",
      "STOP: TOTAL NO. of ITERATIONS REACHED LIMIT.\n",
      "\n",
      "Increase the number of iterations (max_iter) or scale the data as shown in:\n",
      "    https://scikit-learn.org/stable/modules/preprocessing.html\n",
      "Please also refer to the documentation for alternative solver options:\n",
      "    https://scikit-learn.org/stable/modules/linear_model.html#logistic-regression\n",
      "  extra_warning_msg=_LOGISTIC_SOLVER_CONVERGENCE_MSG)\n",
      "/opt/conda/lib/python3.7/site-packages/sklearn/linear_model/_logistic.py:764: ConvergenceWarning: lbfgs failed to converge (status=1):\n",
      "STOP: TOTAL NO. of ITERATIONS REACHED LIMIT.\n",
      "\n",
      "Increase the number of iterations (max_iter) or scale the data as shown in:\n",
      "    https://scikit-learn.org/stable/modules/preprocessing.html\n",
      "Please also refer to the documentation for alternative solver options:\n",
      "    https://scikit-learn.org/stable/modules/linear_model.html#logistic-regression\n",
      "  extra_warning_msg=_LOGISTIC_SOLVER_CONVERGENCE_MSG)\n",
      "/opt/conda/lib/python3.7/site-packages/sklearn/linear_model/_logistic.py:764: ConvergenceWarning: lbfgs failed to converge (status=1):\n",
      "STOP: TOTAL NO. of ITERATIONS REACHED LIMIT.\n",
      "\n",
      "Increase the number of iterations (max_iter) or scale the data as shown in:\n",
      "    https://scikit-learn.org/stable/modules/preprocessing.html\n",
      "Please also refer to the documentation for alternative solver options:\n",
      "    https://scikit-learn.org/stable/modules/linear_model.html#logistic-regression\n",
      "  extra_warning_msg=_LOGISTIC_SOLVER_CONVERGENCE_MSG)\n",
      "/opt/conda/lib/python3.7/site-packages/sklearn/linear_model/_logistic.py:764: ConvergenceWarning: lbfgs failed to converge (status=1):\n",
      "STOP: TOTAL NO. of ITERATIONS REACHED LIMIT.\n",
      "\n",
      "Increase the number of iterations (max_iter) or scale the data as shown in:\n",
      "    https://scikit-learn.org/stable/modules/preprocessing.html\n",
      "Please also refer to the documentation for alternative solver options:\n",
      "    https://scikit-learn.org/stable/modules/linear_model.html#logistic-regression\n",
      "  extra_warning_msg=_LOGISTIC_SOLVER_CONVERGENCE_MSG)\n",
      "/opt/conda/lib/python3.7/site-packages/sklearn/linear_model/_logistic.py:764: ConvergenceWarning: lbfgs failed to converge (status=1):\n",
      "STOP: TOTAL NO. of ITERATIONS REACHED LIMIT.\n",
      "\n",
      "Increase the number of iterations (max_iter) or scale the data as shown in:\n",
      "    https://scikit-learn.org/stable/modules/preprocessing.html\n",
      "Please also refer to the documentation for alternative solver options:\n",
      "    https://scikit-learn.org/stable/modules/linear_model.html#logistic-regression\n",
      "  extra_warning_msg=_LOGISTIC_SOLVER_CONVERGENCE_MSG)\n",
      "/opt/conda/lib/python3.7/site-packages/sklearn/linear_model/_logistic.py:764: ConvergenceWarning: lbfgs failed to converge (status=1):\n",
      "STOP: TOTAL NO. of ITERATIONS REACHED LIMIT.\n",
      "\n",
      "Increase the number of iterations (max_iter) or scale the data as shown in:\n",
      "    https://scikit-learn.org/stable/modules/preprocessing.html\n",
      "Please also refer to the documentation for alternative solver options:\n",
      "    https://scikit-learn.org/stable/modules/linear_model.html#logistic-regression\n",
      "  extra_warning_msg=_LOGISTIC_SOLVER_CONVERGENCE_MSG)\n",
      "/opt/conda/lib/python3.7/site-packages/sklearn/linear_model/_logistic.py:764: ConvergenceWarning: lbfgs failed to converge (status=1):\n",
      "STOP: TOTAL NO. of ITERATIONS REACHED LIMIT.\n",
      "\n",
      "Increase the number of iterations (max_iter) or scale the data as shown in:\n",
      "    https://scikit-learn.org/stable/modules/preprocessing.html\n",
      "Please also refer to the documentation for alternative solver options:\n",
      "    https://scikit-learn.org/stable/modules/linear_model.html#logistic-regression\n",
      "  extra_warning_msg=_LOGISTIC_SOLVER_CONVERGENCE_MSG)\n",
      "/opt/conda/lib/python3.7/site-packages/sklearn/linear_model/_logistic.py:764: ConvergenceWarning: lbfgs failed to converge (status=1):\n",
      "STOP: TOTAL NO. of ITERATIONS REACHED LIMIT.\n",
      "\n",
      "Increase the number of iterations (max_iter) or scale the data as shown in:\n",
      "    https://scikit-learn.org/stable/modules/preprocessing.html\n",
      "Please also refer to the documentation for alternative solver options:\n",
      "    https://scikit-learn.org/stable/modules/linear_model.html#logistic-regression\n",
      "  extra_warning_msg=_LOGISTIC_SOLVER_CONVERGENCE_MSG)\n",
      "/opt/conda/lib/python3.7/site-packages/sklearn/linear_model/_logistic.py:764: ConvergenceWarning: lbfgs failed to converge (status=1):\n",
      "STOP: TOTAL NO. of ITERATIONS REACHED LIMIT.\n",
      "\n",
      "Increase the number of iterations (max_iter) or scale the data as shown in:\n",
      "    https://scikit-learn.org/stable/modules/preprocessing.html\n",
      "Please also refer to the documentation for alternative solver options:\n",
      "    https://scikit-learn.org/stable/modules/linear_model.html#logistic-regression\n",
      "  extra_warning_msg=_LOGISTIC_SOLVER_CONVERGENCE_MSG)\n",
      "/opt/conda/lib/python3.7/site-packages/sklearn/linear_model/_logistic.py:764: ConvergenceWarning: lbfgs failed to converge (status=1):\n",
      "STOP: TOTAL NO. of ITERATIONS REACHED LIMIT.\n",
      "\n",
      "Increase the number of iterations (max_iter) or scale the data as shown in:\n",
      "    https://scikit-learn.org/stable/modules/preprocessing.html\n",
      "Please also refer to the documentation for alternative solver options:\n",
      "    https://scikit-learn.org/stable/modules/linear_model.html#logistic-regression\n",
      "  extra_warning_msg=_LOGISTIC_SOLVER_CONVERGENCE_MSG)\n",
      "/opt/conda/lib/python3.7/site-packages/sklearn/linear_model/_logistic.py:764: ConvergenceWarning: lbfgs failed to converge (status=1):\n",
      "STOP: TOTAL NO. of ITERATIONS REACHED LIMIT.\n",
      "\n",
      "Increase the number of iterations (max_iter) or scale the data as shown in:\n",
      "    https://scikit-learn.org/stable/modules/preprocessing.html\n",
      "Please also refer to the documentation for alternative solver options:\n",
      "    https://scikit-learn.org/stable/modules/linear_model.html#logistic-regression\n",
      "  extra_warning_msg=_LOGISTIC_SOLVER_CONVERGENCE_MSG)\n",
      "/opt/conda/lib/python3.7/site-packages/sklearn/linear_model/_logistic.py:764: ConvergenceWarning: lbfgs failed to converge (status=1):\n",
      "STOP: TOTAL NO. of ITERATIONS REACHED LIMIT.\n",
      "\n",
      "Increase the number of iterations (max_iter) or scale the data as shown in:\n",
      "    https://scikit-learn.org/stable/modules/preprocessing.html\n",
      "Please also refer to the documentation for alternative solver options:\n",
      "    https://scikit-learn.org/stable/modules/linear_model.html#logistic-regression\n",
      "  extra_warning_msg=_LOGISTIC_SOLVER_CONVERGENCE_MSG)\n",
      "/opt/conda/lib/python3.7/site-packages/sklearn/linear_model/_logistic.py:764: ConvergenceWarning: lbfgs failed to converge (status=1):\n",
      "STOP: TOTAL NO. of ITERATIONS REACHED LIMIT.\n",
      "\n",
      "Increase the number of iterations (max_iter) or scale the data as shown in:\n",
      "    https://scikit-learn.org/stable/modules/preprocessing.html\n",
      "Please also refer to the documentation for alternative solver options:\n",
      "    https://scikit-learn.org/stable/modules/linear_model.html#logistic-regression\n",
      "  extra_warning_msg=_LOGISTIC_SOLVER_CONVERGENCE_MSG)\n",
      "/opt/conda/lib/python3.7/site-packages/sklearn/linear_model/_logistic.py:764: ConvergenceWarning: lbfgs failed to converge (status=1):\n",
      "STOP: TOTAL NO. of ITERATIONS REACHED LIMIT.\n",
      "\n",
      "Increase the number of iterations (max_iter) or scale the data as shown in:\n",
      "    https://scikit-learn.org/stable/modules/preprocessing.html\n",
      "Please also refer to the documentation for alternative solver options:\n",
      "    https://scikit-learn.org/stable/modules/linear_model.html#logistic-regression\n",
      "  extra_warning_msg=_LOGISTIC_SOLVER_CONVERGENCE_MSG)\n",
      "/opt/conda/lib/python3.7/site-packages/sklearn/linear_model/_logistic.py:764: ConvergenceWarning: lbfgs failed to converge (status=1):\n",
      "STOP: TOTAL NO. of ITERATIONS REACHED LIMIT.\n",
      "\n",
      "Increase the number of iterations (max_iter) or scale the data as shown in:\n",
      "    https://scikit-learn.org/stable/modules/preprocessing.html\n",
      "Please also refer to the documentation for alternative solver options:\n",
      "    https://scikit-learn.org/stable/modules/linear_model.html#logistic-regression\n",
      "  extra_warning_msg=_LOGISTIC_SOLVER_CONVERGENCE_MSG)\n",
      "/opt/conda/lib/python3.7/site-packages/sklearn/linear_model/_logistic.py:764: ConvergenceWarning: lbfgs failed to converge (status=1):\n",
      "STOP: TOTAL NO. of ITERATIONS REACHED LIMIT.\n",
      "\n",
      "Increase the number of iterations (max_iter) or scale the data as shown in:\n",
      "    https://scikit-learn.org/stable/modules/preprocessing.html\n",
      "Please also refer to the documentation for alternative solver options:\n",
      "    https://scikit-learn.org/stable/modules/linear_model.html#logistic-regression\n",
      "  extra_warning_msg=_LOGISTIC_SOLVER_CONVERGENCE_MSG)\n",
      "/opt/conda/lib/python3.7/site-packages/sklearn/linear_model/_logistic.py:764: ConvergenceWarning: lbfgs failed to converge (status=1):\n",
      "STOP: TOTAL NO. of ITERATIONS REACHED LIMIT.\n",
      "\n",
      "Increase the number of iterations (max_iter) or scale the data as shown in:\n",
      "    https://scikit-learn.org/stable/modules/preprocessing.html\n",
      "Please also refer to the documentation for alternative solver options:\n",
      "    https://scikit-learn.org/stable/modules/linear_model.html#logistic-regression\n",
      "  extra_warning_msg=_LOGISTIC_SOLVER_CONVERGENCE_MSG)\n",
      "/opt/conda/lib/python3.7/site-packages/sklearn/linear_model/_logistic.py:764: ConvergenceWarning: lbfgs failed to converge (status=1):\n",
      "STOP: TOTAL NO. of ITERATIONS REACHED LIMIT.\n",
      "\n",
      "Increase the number of iterations (max_iter) or scale the data as shown in:\n",
      "    https://scikit-learn.org/stable/modules/preprocessing.html\n",
      "Please also refer to the documentation for alternative solver options:\n",
      "    https://scikit-learn.org/stable/modules/linear_model.html#logistic-regression\n",
      "  extra_warning_msg=_LOGISTIC_SOLVER_CONVERGENCE_MSG)\n",
      "/opt/conda/lib/python3.7/site-packages/sklearn/linear_model/_logistic.py:764: ConvergenceWarning: lbfgs failed to converge (status=1):\n",
      "STOP: TOTAL NO. of ITERATIONS REACHED LIMIT.\n",
      "\n",
      "Increase the number of iterations (max_iter) or scale the data as shown in:\n",
      "    https://scikit-learn.org/stable/modules/preprocessing.html\n",
      "Please also refer to the documentation for alternative solver options:\n",
      "    https://scikit-learn.org/stable/modules/linear_model.html#logistic-regression\n",
      "  extra_warning_msg=_LOGISTIC_SOLVER_CONVERGENCE_MSG)\n",
      "/opt/conda/lib/python3.7/site-packages/sklearn/linear_model/_logistic.py:764: ConvergenceWarning: lbfgs failed to converge (status=1):\n",
      "STOP: TOTAL NO. of ITERATIONS REACHED LIMIT.\n",
      "\n",
      "Increase the number of iterations (max_iter) or scale the data as shown in:\n",
      "    https://scikit-learn.org/stable/modules/preprocessing.html\n",
      "Please also refer to the documentation for alternative solver options:\n",
      "    https://scikit-learn.org/stable/modules/linear_model.html#logistic-regression\n",
      "  extra_warning_msg=_LOGISTIC_SOLVER_CONVERGENCE_MSG)\n"
     ]
    },
    {
     "data": {
      "text/plain": [
       "RandomizedSearchCV(estimator=LogisticRegression(), n_iter=50,\n",
       "                   param_distributions={'C': [1, 2, 3, 4],\n",
       "                                        'max_iter': [50, 100, 150, 200, 250],\n",
       "                                        'random_state': [0, 1, 2, 3, 4]})"
      ]
     },
     "execution_count": 29,
     "metadata": {},
     "output_type": "execute_result"
    }
   ],
   "source": [
    "from sklearn.linear_model import LogisticRegression\n",
    "logModel = LogisticRegression()\n",
    "param_dist = {'C':list(range(1, 5)),\n",
    "              'random_state':list(range(0,5)),\n",
    "              'max_iter':[50, 100, 150, 200, 250]}\n",
    "log_search = RandomizedSearchCV(logModel, param_distributions=param_dist, n_iter=50)\n",
    "log_search.fit(X_train, y_train)"
   ]
  },
  {
   "cell_type": "code",
   "execution_count": 30,
   "metadata": {
    "execution": {
     "iopub.execute_input": "2020-11-25T11:41:51.394667Z",
     "iopub.status.busy": "2020-11-25T11:41:51.393784Z",
     "iopub.status.idle": "2020-11-25T11:41:51.400784Z",
     "shell.execute_reply": "2020-11-25T11:41:51.400157Z"
    },
    "papermill": {
     "duration": 0.103226,
     "end_time": "2020-11-25T11:41:51.400892",
     "exception": false,
     "start_time": "2020-11-25T11:41:51.297666",
     "status": "completed"
    },
    "tags": []
   },
   "outputs": [
    {
     "data": {
      "text/plain": [
       "0.7936802973977695"
      ]
     },
     "execution_count": 30,
     "metadata": {},
     "output_type": "execute_result"
    }
   ],
   "source": [
    "pred = log_search.predict(X_val)\n",
    "accuracy_score(y_val, pred)"
   ]
  },
  {
   "cell_type": "markdown",
   "metadata": {
    "papermill": {
     "duration": 0.062752,
     "end_time": "2020-11-25T11:41:51.524043",
     "exception": false,
     "start_time": "2020-11-25T11:41:51.461291",
     "status": "completed"
    },
    "tags": []
   },
   "source": [
    "# SVC"
   ]
  },
  {
   "cell_type": "code",
   "execution_count": 31,
   "metadata": {
    "execution": {
     "iopub.execute_input": "2020-11-25T11:41:51.664253Z",
     "iopub.status.busy": "2020-11-25T11:41:51.663543Z",
     "iopub.status.idle": "2020-11-25T11:41:51.755632Z",
     "shell.execute_reply": "2020-11-25T11:41:51.754986Z"
    },
    "papermill": {
     "duration": 0.164606,
     "end_time": "2020-11-25T11:41:51.755761",
     "exception": false,
     "start_time": "2020-11-25T11:41:51.591155",
     "status": "completed"
    },
    "tags": []
   },
   "outputs": [
    {
     "data": {
      "text/plain": [
       "0.8029739776951673"
      ]
     },
     "execution_count": 31,
     "metadata": {},
     "output_type": "execute_result"
    }
   ],
   "source": [
    "from sklearn.svm import SVC\n",
    "svcModel = SVC(gamma=\"auto\")\n",
    "svcModel.fit(X_train, y_train)\n",
    "pred = svcModel.predict(X_val)\n",
    "accuracy_score(y_val, pred)"
   ]
  }
 ],
 "metadata": {
  "kernelspec": {
   "display_name": "Python 3",
   "language": "python",
   "name": "python3"
  },
  "language_info": {
   "codemirror_mode": {
    "name": "ipython",
    "version": 3
   },
   "file_extension": ".py",
   "mimetype": "text/x-python",
   "name": "python",
   "nbconvert_exporter": "python",
   "pygments_lexer": "ipython3",
   "version": "3.7.6"
  },
  "papermill": {
   "duration": 29.444392,
   "end_time": "2020-11-25T11:41:51.927291",
   "environment_variables": {},
   "exception": null,
   "input_path": "__notebook__.ipynb",
   "output_path": "__notebook__.ipynb",
   "parameters": {},
   "start_time": "2020-11-25T11:41:22.482899",
   "version": "2.1.0"
  }
 },
 "nbformat": 4,
 "nbformat_minor": 4
}
